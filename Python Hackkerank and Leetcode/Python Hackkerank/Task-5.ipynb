{
 "cells": [
  {
   "cell_type": "markdown",
   "id": "public-lemon",
   "metadata": {},
   "source": [
    "# Innomatics Internship Task 5 Programs\n",
    "## Name: Jugal Deshmukh\n",
    "## Date: 09/05/21\n",
    "## Task-5 (Python Programming)"
   ]
  },
  {
   "cell_type": "code",
   "execution_count": 1,
   "id": "flush-wings",
   "metadata": {},
   "outputs": [
    {
     "name": "stdout",
     "output_type": "stream",
     "text": [
      "Enter the number of strings to be entered:4\n",
      "Enter the number or string:4.0O0\n",
      "False\n",
      "Enter the number or string:-1.00\n",
      "True\n",
      "Enter the number or string:+4.54\n",
      "True\n",
      "Enter the number or string:SomeRandomStuff\n",
      "False\n"
     ]
    }
   ],
   "source": [
    "#Question 1 (Detecting Floating Point Number)\n",
    "\n",
    "import re\n",
    "\n",
    "n = int(input(\"Enter the number of strings to be entered:\"))\n",
    "pattern = r'^[+-]?[0-9]*\\.[0-9]+$'\n",
    "\n",
    "for i in range(n):\n",
    "    s = input(\"Enter the number or string:\")\n",
    "    print(bool(re.match(pattern,s)))"
   ]
  },
  {
   "cell_type": "code",
   "execution_count": 2,
   "id": "correct-details",
   "metadata": {},
   "outputs": [
    {
     "name": "stdout",
     "output_type": "stream",
     "text": [
      "100,000,000.000\n",
      "100\n",
      "000\n",
      "000\n",
      "000\n"
     ]
    }
   ],
   "source": [
    "#Question 2 ( Re.split() )\n",
    "regex_pattern = r\"[,.]\"\t# Do not delete 'r'.\n",
    "\n",
    "import re\n",
    "print(\"\\n\".join(re.split(regex_pattern, input())))"
   ]
  },
  {
   "cell_type": "code",
   "execution_count": 2,
   "id": "divine-organization",
   "metadata": {},
   "outputs": [
    {
     "name": "stdout",
     "output_type": "stream",
     "text": [
      "12345678910111213141516171820212223\n",
      "1\n"
     ]
    }
   ],
   "source": [
    "#Question 3 ( Group(), Groups(), Groupdict() )\n",
    "import re\n",
    "string = input()\n",
    "regpattern = r'([a-z A-Z 0-9])\\1'\n",
    "\n",
    "g = re.search(regpattern, string)\n",
    "\n",
    "if g:\n",
    "    print(g.groups()[0])\n",
    "else:\n",
    "    print(-1)"
   ]
  },
  {
   "cell_type": "code",
   "execution_count": 9,
   "id": "major-spending",
   "metadata": {},
   "outputs": [
    {
     "name": "stdout",
     "output_type": "stream",
     "text": [
      "Enter the string:rabcdeefgyYhFjkIoomnpOeorteeeeet\n",
      "ee\n",
      "Ioo\n",
      "Oeo\n",
      "eeeee\n"
     ]
    }
   ],
   "source": [
    "#Question 4 ( Re.findall() & Re.finditer() )\n",
    "\n",
    "import re\n",
    "string = input(\"Enter the string:\")\n",
    "vow = \"aeiou\"\n",
    "cons = \"qwrtypsdfghjklzxcvbnm\"\n",
    "l = re.findall(r\"(?<=[%s])([%s]{2,})[%s]\" % (cons, vow, cons), string, flags=re.IGNORECASE)\n",
    "\n",
    "if not l:\n",
    "    print(-1)\n",
    "else:\n",
    "    for i in l:\n",
    "        print(i)"
   ]
  },
  {
   "cell_type": "code",
   "execution_count": 10,
   "id": "surprised-hollywood",
   "metadata": {},
   "outputs": [
    {
     "name": "stdout",
     "output_type": "stream",
     "text": [
      "aaadaa\n",
      "aa\n",
      "(0, 1)\n",
      "(1, 2)\n",
      "(4, 5)\n"
     ]
    }
   ],
   "source": [
    "#Question 5 ( Re.start() & Re.end() )\n",
    "\n",
    "import re\n",
    "string = input()\n",
    "kstring = input()\n",
    "\n",
    "pattern = re.compile(kstring)\n",
    "n = pattern.search(string)\n",
    "\n",
    "if not n:\n",
    "    print(\"(-1,-1)\")\n",
    "    \n",
    "else:\n",
    "    while n:\n",
    "        print(\"({0}, {1})\".format(n.start(), n.end() -1))\n",
    "        \n",
    "        n = pattern.search(string, n.start() + 1)\n",
    "        "
   ]
  },
  {
   "cell_type": "code",
   "execution_count": 13,
   "id": "knowing-skirt",
   "metadata": {},
   "outputs": [
    {
     "name": "stdout",
     "output_type": "stream",
     "text": [
      "CDXXI\n",
      "True\n"
     ]
    }
   ],
   "source": [
    "#Question 7 (Validating Roman Numerals)\n",
    "\n",
    "#Defining the Roman numeral places\n",
    "thousands = 'M{0,3}'\n",
    "hundreds = '(CM|CD|D?C{0,3})'\n",
    "tens = '(XC|XL|L?X{0,3})'\n",
    "digits = '(IX|IV|V?I{0,3})'\n",
    "\n",
    "\n",
    "regex_pattern = r\"%s%s%s%s$\" % (thousands,hundreds,tens, digits)\n",
    "\n",
    "import re\n",
    "print(str(bool(re.match(regex_pattern, input()))))\n"
   ]
  },
  {
   "cell_type": "code",
   "execution_count": 14,
   "id": "critical-produce",
   "metadata": {},
   "outputs": [
    {
     "name": "stdout",
     "output_type": "stream",
     "text": [
      "2\n",
      "9587456281\n",
      "YES\n",
      "1252478965\n",
      "NO\n"
     ]
    }
   ],
   "source": [
    "#Question 8 (Validating Phone Numbers)\n",
    "\n",
    "import re\n",
    "def valnum(number):\n",
    "    regpattern = r\"[789]\\d{9}$\"\n",
    "    \n",
    "    if re.match(regpattern, number):\n",
    "        return \"YES\"\n",
    "    else:\n",
    "        return \"NO\"\n",
    "    \n",
    "n = int(input())\n",
    "\n",
    "for i in range(n):\n",
    "    print(valnum(input()))"
   ]
  },
  {
   "cell_type": "code",
   "execution_count": 15,
   "id": "modern-cardiff",
   "metadata": {},
   "outputs": [
    {
     "name": "stdout",
     "output_type": "stream",
     "text": [
      "2  \n",
      "DEXTER <dexter@hotmail.com>\n",
      "DEXTER <dexter@hotmail.com>\n",
      "VIRUS <virus!@variable.:p>\n"
     ]
    }
   ],
   "source": [
    "#Question 9 (Validating and parsing e-mail addresses)\n",
    "import re\n",
    "\n",
    "num = int(input())\n",
    "for i in range(num):\n",
    "    l = input()\n",
    "    \n",
    "    name,email = l.split(\" \")\n",
    "    \n",
    "    pattern = \"<[a-z][a-zA-Z0-9\\-\\.\\_]*@[a-zA-Z]+\\.[a-zA-Z]{1,3}\"\n",
    "    \n",
    "    if bool(re.match(pattern,email)):\n",
    "        print(name,email)"
   ]
  },
  {
   "cell_type": "code",
   "execution_count": null,
   "id": "superior-member",
   "metadata": {},
   "outputs": [],
   "source": []
  }
 ],
 "metadata": {
  "kernelspec": {
   "display_name": "Python 3",
   "language": "python",
   "name": "python3"
  },
  "language_info": {
   "codemirror_mode": {
    "name": "ipython",
    "version": 3
   },
   "file_extension": ".py",
   "mimetype": "text/x-python",
   "name": "python",
   "nbconvert_exporter": "python",
   "pygments_lexer": "ipython3",
   "version": "3.7.1"
  }
 },
 "nbformat": 4,
 "nbformat_minor": 5
}
