{
 "cells": [
  {
   "cell_type": "markdown",
   "metadata": {},
   "source": [
    "## Name: Jugal Deshmukh\n",
    "## Task - 8 (Statistics Questions)"
   ]
  },
  {
   "cell_type": "code",
   "execution_count": 1,
   "metadata": {},
   "outputs": [],
   "source": [
    "import warnings\n",
    "warnings.filterwarnings('ignore')\n",
    "\n",
    "from IPython.core.interactiveshell import InteractiveShell\n",
    "InteractiveShell.ast_node_interactivity= 'all'\n",
    "\n",
    "import math\n",
    "import statistics\n",
    "import numpy as np\n",
    "import pandas as pd"
   ]
  },
  {
   "cell_type": "markdown",
   "metadata": {},
   "source": [
    "# Question 1\n",
    "\n",
    "Binomial Distribution I\n",
    "\n",
    "\n",
    "\n",
    "The ratio of boys to girls for babies born in Russia is  1.09:1 . If there is 1 child born per birth, what proportion of Russian families with exactly 6 children will have at least 3 boys?   \n",
    "\n",
    "Write a program to compute the answer using the above parameters. Then print your result, rounded to a scale of 3 decimal places (i.e.,1.234 format).  \n",
    "\n",
    "Input Format   \n",
    "\n",
    "A single line containing the following values:  \n",
    "\n",
    "1.09 1  \n",
    "If you do not wish to read this information from stdin, you can hard-code it into your program.\n",
    "\n",
    "Output Format\n",
    "\n",
    "Print a single line denoting the answer, rounded to a scale of 3 decimal places (i.e.,1.234 format).\n",
    "\n",
    "[Day 4: Binomial Distribution I](https://www.hackerrank.com/challenges/s10-binomial-distribution-1/problem)\n",
    "\n"
   ]
  },
  {
   "cell_type": "markdown",
   "metadata": {},
   "source": [
    " $ P(x=i) = \\frac {n!}{i!(n-i)!} p^i(1-p)^{n-i} $"
   ]
  },
  {
   "cell_type": "code",
   "execution_count": 2,
   "metadata": {},
   "outputs": [],
   "source": [
    "def P_x(n,i,p):\n",
    "    numerator = math.factorial(n)\n",
    "    denominator = math.factorial(i)*math.factorial(n-i)\n",
    "    nCi= numerator/denominator\n",
    "    q =1-p\n",
    "    P_x = nCi*(p**i)*(q**(n-i))\n",
    "    return(P_x)"
   ]
  },
  {
   "cell_type": "code",
   "execution_count": 3,
   "metadata": {},
   "outputs": [
    {
     "name": "stdout",
     "output_type": "stream",
     "text": [
      "1.10 1\n",
      "0.7\n"
     ]
    }
   ],
   "source": [
    "input_ = list(map(float,input().split()))\n",
    "i =3 #success[3,4,5,6]\n",
    "n = 6  # number of trails\n",
    "girls_ratio = input_[1]\n",
    "\n",
    "boys_ratio = input_[0]\n",
    "p = boys_ratio/(girls_ratio+boys_ratio)\n",
    "\n",
    "Output = 0\n",
    "for j in range(i,n+1):\n",
    "    Output += P_x(n,j,p) \n",
    "    \n",
    "print(round(Output,ndigits=3))\n"
   ]
  },
  {
   "cell_type": "markdown",
   "metadata": {},
   "source": [
    "## Question2\n",
    "Binomial Distribution II\n",
    "\n",
    "Objective\n",
    "In this challenge, we go further with binomial distributions. We recommend reviewing the previous challenge's Tutorial before attempting this problem.\n",
    "\n",
    "**Task**     \n",
    "A manufacturer of metal pistons finds that, on average, **12%** of the pistons they manufacture are rejected because they are incorrectly sized. What is the probability that a batch of  pistons will contain:\n",
    "\n",
    "No more than **2** rejects?  \n",
    "At least **2** rejects?\n",
    "\n",
    "**Input Format**     \n",
    "\n",
    "A single line containing the following values (denoting the respective percentage of defective pistons and the size of the current batch of pistons):\n",
    "\n",
    "12 10  \n",
    "If you do not wish to read this information from stdin, you can hard-code it into your program.\n",
    "\n",
    "**_Output Format_**  \n",
    "\n",
    "Print the answer to each question on its own line:    \n",
    "\n",
    "The first line should contain the probability that a batch of **10** pistons will contain no more than **_2_** rejects.   \n",
    "The second line should contain the probability that a batch of **10** pistons will contain at least **2** rejects.   \n",
    "Round both of your answers to a scale of **3** decimal places (i.e.,**1.234**  format).   \n",
    "\n",
    "\n",
    "\n",
    "\n",
    "\n",
    "[Binomial Distribution II](https://www.hackerrank.com/challenges/s10-binomial-distribution-2/problem)\n",
    "\n"
   ]
  },
  {
   "cell_type": "markdown",
   "metadata": {},
   "source": [
    " $$ P(x=i) = \\frac {n!}{i!(n-i)!} p^i(1-p)^{n-i} $$"
   ]
  },
  {
   "cell_type": "code",
   "execution_count": 4,
   "metadata": {},
   "outputs": [
    {
     "name": "stdout",
     "output_type": "stream",
     "text": [
      "12 10\n",
      "0.891\n",
      "0.342\n"
     ]
    }
   ],
   "source": [
    "b =list(map(int,input().split()))\n",
    "n=b[1]\n",
    "p =b[0]/100\n",
    "reject=0\n",
    "i=2\n",
    "for i in range(i+1):\n",
    "    reject += P_x(n,i,p)\n",
    "print(round(reject,3))\n",
    "j= 2\n",
    "reject_2 = 0\n",
    "for i in range(2,10):\n",
    "    reject_2 += P_x(n,i,p)\n",
    "print(round(reject_2,3))\n",
    "    \n"
   ]
  },
  {
   "cell_type": "markdown",
   "metadata": {},
   "source": [
    "## Question 3\n",
    "Normal Distribution I\n",
    "\n",
    "In a certain plant, the time taken to assemble a car is a random variable, , having a normal distribution with a mean of **20** hours and a standard deviation of **2** hours. What is the probability that a car can be assembled at this plant in:\n",
    "\n",
    "1. Less than **19.5** hours?   \n",
    "2. Between **20** and **22** hours?   \n",
    "\n",
    "Input Format\n",
    "\n",
    "There are **3** lines of input (shown below):\n",
    "\n",
    "20 2\n",
    "19.5\n",
    "20 22\n",
    "The first line contains **2** space-separated values denoting the respective mean and standard deviation for **X**. The second line contains the number associated with question **1**. The third line contains **2** space-separated values describing the respective lower and upper range boundaries for question **2**.\n",
    "\n",
    "If you do not wish to read this information from stdin, you can hard-code it into your program.\n",
    "\n",
    "Output Format\n",
    "\n",
    "There are two lines of output. Your answers must be rounded to a scale of **3** decimal places (i.e.,**1.234** format):\n",
    "\n",
    "1. On the first line, print the answer to question **1** (i.e., the probability that a car can be assembled in less than **19.5** hours).     \n",
    "2. On the second line, print the answer to question **2** (i.e., the probability that a car can be assembled in between **20** to **22** hours).  \n",
    "\n",
    "\n",
    "[Normal Distribution I](https://www.hackerrank.com/challenges/s10-normal-distribution-1/problem)\n",
    "\n"
   ]
  },
  {
   "cell_type": "code",
   "execution_count": 5,
   "metadata": {},
   "outputs": [],
   "source": [
    "from scipy.stats import norm\n",
    "import numpy as np\n"
   ]
  },
  {
   "cell_type": "code",
   "execution_count": 6,
   "metadata": {},
   "outputs": [],
   "source": [
    "def Z_score(mean,std, observation):\n",
    "    z= (observation-mean)/std\n",
    "    return(z)"
   ]
  },
  {
   "cell_type": "code",
   "execution_count": 7,
   "metadata": {},
   "outputs": [],
   "source": [
    "#given \n",
    "mean =20\n",
    "std = 2"
   ]
  },
  {
   "cell_type": "code",
   "execution_count": 8,
   "metadata": {},
   "outputs": [
    {
     "name": "stdout",
     "output_type": "stream",
     "text": [
      "0.401\n"
     ]
    }
   ],
   "source": [
    "#Less than **19.5** hours?   \n",
    "observation= 19.5\n",
    "z = Z_score(mean,std,observation)\n",
    "p_value = 1.0 - norm.cdf(np.abs(z))\n",
    "print(round(p_value,3))\n"
   ]
  },
  {
   "cell_type": "code",
   "execution_count": 9,
   "metadata": {},
   "outputs": [
    {
     "name": "stdout",
     "output_type": "stream",
     "text": [
      "0.5\n",
      "0.8413447460685429\n",
      "Between **20** and **22** hours is  0.341\n"
     ]
    }
   ],
   "source": [
    "#Between **20** and **22** hours?\n",
    "observation1 = 20\n",
    "z_20 = Z_score(mean,std,observation1)\n",
    "\n",
    "p_20 = norm.cdf(np.abs(z_20))\n",
    "print(p_20)\n",
    "observation2= 22\n",
    "z_22 = Z_score(mean,std, observation2)\n",
    "p_22 = norm.cdf(np.abs(z_22))\n",
    "print(p_22)\n",
    "\n",
    "#we need middel portion so \n",
    "\n",
    "print(\"Between **20** and **22** hours is \",round((p_22-p_20),3))"
   ]
  },
  {
   "cell_type": "markdown",
   "metadata": {},
   "source": []
  },
  {
   "cell_type": "markdown",
   "metadata": {},
   "source": [
    "## Question 4\n",
    "Normal Distribution II\n",
    "\n",
    "Objective\n",
    "In this challenge, we go further with normal distributions. We recommend reviewing the previous challenge's Tutorial before attempting this problem.\n",
    "\n",
    "Task\n",
    "The final grades for a Physics exam taken by a large group of students have a mean of $ \\mu=70 $ and a standard deviation of $ \\sigma = 10 $ . If we can approximate the distribution of these grades by a normal distribution, what percentage of the students:\n",
    "\n",
    "1. Scored higher than **80** (i.e., have a **grade>80**)?   \n",
    "2. Passed the test (i.e., have a $grade\\underline>60$)?\n",
    "3. Failed the test (i.e., have a **grade<60**)?\n",
    "Find and print the answer to each question on a new line, rounded to a scale of **2** decimal places.\n",
    "\n",
    "Input Format\n",
    "\n",
    "There are **3** lines of input (shown below):\n",
    "\n",
    "70 10\n",
    "80\n",
    "60\n",
    "The first line contains **2** space-separated values denoting the respective mean and standard deviation for the exam. The second line contains the number associated with question **1**. The third line contains the pass/fail threshold number associated with questions **2** and **3**.\n",
    "\n",
    "If you do not wish to read this information from stdin, you can hard-code it into your program.\n",
    "\n",
    "Output Format\n",
    "\n",
    "There are three lines of output. Your answers must be rounded to a scale of  **2** decimal places (i.e.,**1.234**  format):\n",
    "\n",
    "On the first line, print the answer to question **1** (i.e., the percentage of students having  **grade>80**).  \n",
    "On the second line, print the answer to question **2** (i.e., the percentage of students having $grade\\underline>60$).  \n",
    "On the third line, print the answer to question  **3** (i.e., the percentage of students having **grade<60**).  \n",
    "\n",
    "\n",
    "[Normal Distribution II](https://www.hackerrank.com/challenges/s10-normal-distribution-2/problem)\n"
   ]
  },
  {
   "cell_type": "code",
   "execution_count": 10,
   "metadata": {},
   "outputs": [],
   "source": [
    "mean = 70\n",
    "std = 10"
   ]
  },
  {
   "cell_type": "code",
   "execution_count": 12,
   "metadata": {},
   "outputs": [
    {
     "name": "stdout",
     "output_type": "stream",
     "text": [
      "70 10\n"
     ]
    }
   ],
   "source": [
    "mean, std  = map(int,input().split())"
   ]
  },
  {
   "cell_type": "code",
   "execution_count": 13,
   "metadata": {},
   "outputs": [
    {
     "data": {
      "text/plain": [
       "10"
      ]
     },
     "execution_count": 13,
     "metadata": {},
     "output_type": "execute_result"
    }
   ],
   "source": [
    "std"
   ]
  },
  {
   "cell_type": "code",
   "execution_count": 14,
   "metadata": {},
   "outputs": [
    {
     "name": "stdout",
     "output_type": "stream",
     "text": [
      "1.0\n",
      "15.87\n"
     ]
    }
   ],
   "source": [
    "#(p>80)\n",
    "observation = 80\n",
    "z = Z_score(mean,std,observation)\n",
    "print(z)\n",
    "p_value = norm.cdf(np.abs(z))\n",
    "print(round((1-p_value)*100,2))"
   ]
  },
  {
   "cell_type": "code",
   "execution_count": 15,
   "metadata": {},
   "outputs": [
    {
     "name": "stdout",
     "output_type": "stream",
     "text": [
      "84.13\n",
      "15.87\n"
     ]
    }
   ],
   "source": [
    "#(p>=60)\n",
    "observation1 = 60\n",
    "z = Z_score(mean,std,observation1)\n",
    "\n",
    "p_value = norm.cdf(np.abs(z))\n",
    "print(round((p_value*100),2))\n",
    "#p<60\n",
    "print(round((1-p_value)*100,2))"
   ]
  },
  {
   "cell_type": "markdown",
   "metadata": {},
   "source": [
    "## Question 5\n",
    "The Central Limit Theorem I\n",
    "\n",
    "\n",
    "A large elevator can transport a maximum of **9800** pounds. Suppose a load of cargo containing **49** boxes must be transported via the elevator. The box weight of this type of cargo follows a distribution with a mean of $\\mu=205 $ pounds and a standard deviation of $\\sigma =15 $ pounds. Based on this information, what is the probability that all **49** boxes can be safely loaded into the freight elevator and transported?\n",
    "\n",
    "Input Format\n",
    "\n",
    "There are **4** lines of input (shown below):\n",
    "\n",
    "9800\n",
    "49\n",
    "205\n",
    "15\n",
    "The first line contains the maximum weight the elevator can transport. The second line contains the number of boxes in the cargo. The third line contains the mean weight of a cargo box, and the fourth line contains its standard deviation.\n",
    "\n",
    "If you do not wish to read this information from stdin, you can hard-code it into your program.\n",
    "\n",
    "Output Format\n",
    "\n",
    "Print the probability that the elevator can successfully transport all **49** boxes, rounded to a scale of **4** decimal places (i.e., **1.234** format).\n",
    "\n",
    "[The Central Limit Theorem I](https://www.hackerrank.com/challenges/s10-the-central-limit-theorem-1/problem)"
   ]
  },
  {
   "cell_type": "code",
   "execution_count": null,
   "metadata": {},
   "outputs": [],
   "source": [
    "from scipy.stats import norm\n",
    "import numpy as np"
   ]
  },
  {
   "cell_type": "code",
   "execution_count": 16,
   "metadata": {},
   "outputs": [],
   "source": [
    "x= 9800\n",
    "n= 49\n",
    "mean = 205\n",
    "sigma =15\n",
    "random_variable = x/n"
   ]
  },
  {
   "cell_type": "code",
   "execution_count": 17,
   "metadata": {},
   "outputs": [
    {
     "data": {
      "text/plain": [
       "200.0"
      ]
     },
     "execution_count": 17,
     "metadata": {},
     "output_type": "execute_result"
    }
   ],
   "source": [
    "random_variable"
   ]
  },
  {
   "cell_type": "code",
   "execution_count": 18,
   "metadata": {},
   "outputs": [],
   "source": [
    "import math"
   ]
  },
  {
   "cell_type": "code",
   "execution_count": 19,
   "metadata": {},
   "outputs": [],
   "source": [
    "def Z_score(mean,std, observation,n):\n",
    "    z= (observation-mean)/(std/math.sqrt(n))\n",
    "    return(z)"
   ]
  },
  {
   "cell_type": "code",
   "execution_count": 20,
   "metadata": {},
   "outputs": [],
   "source": [
    "Z_score = Z_score(mean,sigma,random_variable,n)"
   ]
  },
  {
   "cell_type": "code",
   "execution_count": 21,
   "metadata": {},
   "outputs": [
    {
     "data": {
      "text/plain": [
       "-2.3333333333333335"
      ]
     },
     "execution_count": 21,
     "metadata": {},
     "output_type": "execute_result"
    }
   ],
   "source": [
    "Z_score"
   ]
  },
  {
   "cell_type": "code",
   "execution_count": 22,
   "metadata": {},
   "outputs": [
    {
     "name": "stdout",
     "output_type": "stream",
     "text": [
      "0.0098\n"
     ]
    }
   ],
   "source": [
    "from scipy.stats import norm\n",
    "import numpy as np\n",
    "p_value = 1.0 - norm.cdf(np.abs(Z_score))\n",
    "\n",
    "print(round(p_value,4))"
   ]
  },
  {
   "cell_type": "markdown",
   "metadata": {},
   "source": [
    "## Question 6\n",
    "\n",
    "The Central Limit Theorem II\n",
    "\n",
    "The number of tickets purchased by each student for the University X vs. University Y football game follows a distribution that has a mean of $\\mu = 2.4 $ and a standard deviation of $\\sigma = 2.0 $.\n",
    "\n",
    "A few hours before the game starts, **100** eager students line up to purchase last-minute tickets. If there are only **250** tickets left, what is the probability that all **100** students will be able to purchase tickets?\n",
    "\n",
    "Input Format\n",
    "\n",
    "There are **4** lines of input (shown below):\n",
    "\n",
    "250\n",
    "100\n",
    "2.4\n",
    "2.0\n",
    "The first line contains the number of last-minute tickets available at the box office. The second line contains the number of students waiting to buy tickets. The third line contains the mean number of purchased tickets, and the fourth line contains the standard deviation.\n",
    "\n",
    "If you do not wish to read this information from stdin, you can hard-code it into your program.\n",
    "\n",
    "Output Format\n",
    "\n",
    "Print the probability that **100** students can successfully purchase the remaining **250** tickets, rounded to a scale of  **4**decimal places (i.e.,**1.234**  format).\n",
    "\n",
    "[The Central Limit Theorem II](https://www.hackerrank.com/challenges/s10-the-central-limit-theorem-2/problem)"
   ]
  },
  {
   "cell_type": "code",
   "execution_count": 23,
   "metadata": {},
   "outputs": [],
   "source": [
    "mean= 2.4\n",
    "std = 2.0\n",
    "n = 100\n",
    "number_of_tickets =250 \n",
    "\n",
    "observation = number_of_tickets/n"
   ]
  },
  {
   "cell_type": "code",
   "execution_count": 24,
   "metadata": {},
   "outputs": [],
   "source": [
    "numerator = observation-mean"
   ]
  },
  {
   "cell_type": "code",
   "execution_count": 25,
   "metadata": {},
   "outputs": [
    {
     "data": {
      "text/plain": [
       "0.10000000000000009"
      ]
     },
     "execution_count": 25,
     "metadata": {},
     "output_type": "execute_result"
    }
   ],
   "source": [
    "numerator"
   ]
  },
  {
   "cell_type": "code",
   "execution_count": 26,
   "metadata": {},
   "outputs": [],
   "source": [
    "def z_score(mean, std,observation,n):\n",
    "    numarator = observation-mean\n",
    "    denominator = std/math.sqrt(n)\n",
    "    z = numarator/denominator\n",
    "    return(z)"
   ]
  },
  {
   "cell_type": "code",
   "execution_count": 27,
   "metadata": {},
   "outputs": [],
   "source": [
    "z = z_score(mean, std,observation,n)"
   ]
  },
  {
   "cell_type": "code",
   "execution_count": 28,
   "metadata": {},
   "outputs": [
    {
     "name": "stdout",
     "output_type": "stream",
     "text": [
      "0.5000000000000004\n"
     ]
    }
   ],
   "source": [
    "print(z)"
   ]
  },
  {
   "cell_type": "code",
   "execution_count": 29,
   "metadata": {},
   "outputs": [],
   "source": [
    "pvalue = norm.cdf(np.abs(z))"
   ]
  },
  {
   "cell_type": "code",
   "execution_count": 30,
   "metadata": {},
   "outputs": [
    {
     "name": "stdout",
     "output_type": "stream",
     "text": [
      "0.6915\n"
     ]
    }
   ],
   "source": [
    "print(round(pvalue,4))"
   ]
  },
  {
   "cell_type": "markdown",
   "metadata": {},
   "source": [
    "## Question 7\n",
    "\n",
    "The Central Limit Theorem III\n",
    "\n",
    "\n",
    "You have a sample of **100**  values from a population with mean $\\mu = 500$ and with standard deviation $\\sigma= 80$. Compute the interval that covers the middle **95** of the distribution of the sample mean; in other words, compute **A** and **B** such that **(P<x<B)=0.95** . Use the value of **Z=1.96** . Note that  is the z-score.\n",
    "\n",
    "**Input Format**\n",
    "\n",
    "There are five lines of input (shown below):\n",
    "\n",
    "100  \n",
    "500   \n",
    "80   \n",
    ".95   \n",
    "1.96   \n",
    "The first line contains the sample size. The second and third lines contain the respective mean ($\\mu$) and standard deviation ($\\sigma$). The fourth line contains the distribution percentage we want to cover (as a decimal), and the fifth line contains the value of **Z**.\n",
    "\n",
    "If you do not wish to read this information from stdin, you can hard-code it into your program.\n",
    "\n",
    "**Output Format**\n",
    "\n",
    "Print the following two lines of output, rounded to a scale of **2** decimal places (i.e.,**1.234** format):\n",
    "\n",
    "1. On the first line, print the value of **A**.\n",
    "2. On the second line, print the value of **B**.\n",
    "\n",
    "[The Central Limit Theorem III](https://www.hackerrank.com/challenges/s10-the-central-limit-theorem-3/problem)\n"
   ]
  },
  {
   "cell_type": "code",
   "execution_count": 31,
   "metadata": {},
   "outputs": [
    {
     "name": "stdout",
     "output_type": "stream",
     "text": [
      "484.0\n",
      "516.0\n"
     ]
    }
   ],
   "source": [
    "# the central limit therom fallows the normal distribition 95% of the data fallows in 2stds from the mean\n",
    "#from CLT smaples_mean = population mean\n",
    "#s = sigma/sqrt(n)\n",
    "mu= 500\n",
    "sigma= 80\n",
    "n =100\n",
    "s = sigma/math.sqrt(n)\n",
    "\n",
    "a = mu-(2*s)\n",
    "b = mu+(2*s)\n",
    "\n",
    "print(a,b,sep='\\n')"
   ]
  },
  {
   "cell_type": "markdown",
   "metadata": {},
   "source": []
  },
  {
   "cell_type": "markdown",
   "metadata": {},
   "source": [
    "## Question 8\n",
    "\n",
    "Pearson Correlation Coefficient I\n",
    "\n"
   ]
  },
  {
   "cell_type": "markdown",
   "metadata": {},
   "source": [
    "[Pearson Correlation Coefficient I](https://www.hackerrank.com/challenges/s10-pearson-correlation-coefficient/problem)"
   ]
  },
  {
   "cell_type": "code",
   "execution_count": 35,
   "metadata": {},
   "outputs": [
    {
     "name": "stdout",
     "output_type": "stream",
     "text": [
      "10\n",
      "10 9.8 8 7.8 7.7 7 6 5 4 2 \n",
      "200 44 32 24 22 17 15 12 8 4\n",
      "([0, 1], 3)\n",
      "[[1.         0.61247219]\n",
      " [0.61247219 1.        ]]\n"
     ]
    }
   ],
   "source": [
    "n = int(input())\n",
    "x= np.array(input().split(),np.float)\n",
    "y= np.array(input().split(),np.float)\n",
    "\n",
    "a =np.corrcoef(x,y)\n",
    "print(([0,1],3))\n",
    "print(a)"
   ]
  },
  {
   "cell_type": "code",
   "execution_count": 36,
   "metadata": {},
   "outputs": [
    {
     "name": "stdout",
     "output_type": "stream",
     "text": [
      "10\n",
      "10 9.8 8 7.8 7.7 7 6 5 4 2\n",
      "200 44 32 24 22 17 15 12 8 4\n",
      "       x      y\n",
      "x  1.000  0.612\n",
      "y  0.612  1.000\n"
     ]
    }
   ],
   "source": [
    "import pandas as pd\n",
    "n = int(input())\n",
    "x= np.array(input().split(),np.float)\n",
    "y= np.array(input().split(),np.float)\n",
    "\n",
    "df = pd.DataFrame()\n",
    "df['x'] =x\n",
    "df['y']=y\n",
    "\n",
    "a =np.corrcoef(x,y)\n",
    "print(round(df.corr(),3))"
   ]
  },
  {
   "cell_type": "markdown",
   "metadata": {},
   "source": [
    "## Question 9\n",
    "\n",
    "Least Square Regression Line\n",
    "\n",
    "\n",
    "A group of five students enrolls in Statistics immediately after taking a Math aptitude test. Each student's Math aptitude test score,**x**, and Statistics course grade,**y** , can be expressed as the following list of **(x,y)**  points:\n",
    "\n",
    "1. (95,85)   \n",
    "2. (85,95)   \n",
    "3. (80,70)   \n",
    "4. (70,65)   \n",
    "5. (60,70)   \n",
    "\n",
    "\n",
    "If a student scored an **80** on the Math aptitude test, what grade would we expect them to achieve in Statistics? Determine the equation of the best-fit line using the least squares method, then compute and print the value of **y** when **x=80**.\n",
    "\n",
    "**Input Format**\n",
    "\n",
    "There are five lines of input; each line contains two space-separated integers describing a student's respective **x** and **y** grades:\n",
    "\n",
    "95 85   \n",
    "85 95   \n",
    "80 70   \n",
    "70 65  \n",
    "60 70   \n",
    "If you do not wish to read this information from stdin, you can hard-code it into your program.\n",
    "\n",
    "**Output Format**\n",
    "\n",
    "Print a single line denoting the answer, rounded to a scale of **3** decimal places (i.e.,**1.234**  format).\n",
    "\n",
    "[Least Square Regression Line](https://www.hackerrank.com/challenges/s10-least-square-regression-line/problem)\n"
   ]
  },
  {
   "cell_type": "code",
   "execution_count": 42,
   "metadata": {},
   "outputs": [],
   "source": [
    "from sklearn.linear_model import LinearRegression"
   ]
  },
  {
   "cell_type": "code",
   "execution_count": 37,
   "metadata": {},
   "outputs": [
    {
     "name": "stdout",
     "output_type": "stream",
     "text": [
      "95 85\n",
      "85 95\n",
      "80 70\n",
      "70 65\n",
      "60 70\n"
     ]
    }
   ],
   "source": [
    "input_ = [list(map(int,input().split())) for i in range(5)]\n"
   ]
  },
  {
   "cell_type": "code",
   "execution_count": 38,
   "metadata": {},
   "outputs": [
    {
     "data": {
      "text/plain": [
       "[[95, 85], [85, 95], [80, 70], [70, 65], [60, 70]]"
      ]
     },
     "execution_count": 38,
     "metadata": {},
     "output_type": "execute_result"
    }
   ],
   "source": [
    "input_"
   ]
  },
  {
   "cell_type": "code",
   "execution_count": 39,
   "metadata": {},
   "outputs": [],
   "source": [
    "x = np.array([input_[i][0] for i in range(len(input_))]).reshape(-1,1)\n",
    "y = np.array([input_[i][1] for i in range(len(input_))])\n"
   ]
  },
  {
   "cell_type": "code",
   "execution_count": 40,
   "metadata": {},
   "outputs": [
    {
     "name": "stdout",
     "output_type": "stream",
     "text": [
      "[[95]\n",
      " [85]\n",
      " [80]\n",
      " [70]\n",
      " [60]]\n",
      "[85 95 70 65 70]\n"
     ]
    }
   ],
   "source": [
    "print(x,y,sep = '\\n')"
   ]
  },
  {
   "cell_type": "code",
   "execution_count": 43,
   "metadata": {},
   "outputs": [],
   "source": [
    "model = LinearRegression()"
   ]
  },
  {
   "cell_type": "code",
   "execution_count": 44,
   "metadata": {},
   "outputs": [
    {
     "data": {
      "text/plain": [
       "LinearRegression()"
      ]
     },
     "execution_count": 44,
     "metadata": {},
     "output_type": "execute_result"
    }
   ],
   "source": [
    "model.fit(x,y)"
   ]
  },
  {
   "cell_type": "markdown",
   "metadata": {},
   "source": []
  },
  {
   "cell_type": "code",
   "execution_count": 45,
   "metadata": {},
   "outputs": [
    {
     "data": {
      "text/plain": [
       "26.780821917808225"
      ]
     },
     "execution_count": 45,
     "metadata": {},
     "output_type": "execute_result"
    }
   ],
   "source": [
    "model.intercept_"
   ]
  },
  {
   "cell_type": "code",
   "execution_count": 46,
   "metadata": {},
   "outputs": [
    {
     "data": {
      "text/plain": [
       "array([0.64383562])"
      ]
     },
     "execution_count": 46,
     "metadata": {},
     "output_type": "execute_result"
    }
   ],
   "source": [
    "model.coef_"
   ]
  },
  {
   "cell_type": "code",
   "execution_count": 47,
   "metadata": {},
   "outputs": [],
   "source": [
    "y_pred80 = model.predict(np.array(80).reshape(-1,1))"
   ]
  },
  {
   "cell_type": "code",
   "execution_count": 48,
   "metadata": {},
   "outputs": [
    {
     "name": "stdout",
     "output_type": "stream",
     "text": [
      "78.288\n"
     ]
    }
   ],
   "source": [
    "print(np.round(y_pred80,3)[0])"
   ]
  },
  {
   "cell_type": "markdown",
   "metadata": {},
   "source": [
    "# Question 10"
   ]
  },
  {
   "cell_type": "markdown",
   "metadata": {},
   "source": [
    "[Multiple Linear Regression](https://www.hackerrank.com/challenges/s10-multiple-linear-regression/problem)\n",
    "\n"
   ]
  },
  {
   "cell_type": "code",
   "execution_count": 49,
   "metadata": {},
   "outputs": [
    {
     "name": "stdout",
     "output_type": "stream",
     "text": [
      "2 7\n",
      "0.18 0.89 109.85\n",
      "1.0 0.26 155.72\n",
      "0.92 0.11 137.66\n",
      "0.07 0.37 76.17\n",
      "0.85 0.16 139.75\n",
      "0.99 0.41 162.6\n",
      "0.87 0.47 151.77\n"
     ]
    }
   ],
   "source": [
    "m,n = list(map(int,input().split()))\n",
    "x_1 = []\n",
    "x_2 = []\n",
    "y = []\n",
    "input_ = [list(map(float,input().split())) for i in range(n)]\n",
    "x_1 = np.array([input_[i][0] for i in range(len(input_))])\n",
    "x_2 = np.array([input_[i][1] for i in range(len(input_))])\n",
    "y = np.array([input_[i][2] for i in range(len(input_))])"
   ]
  },
  {
   "cell_type": "code",
   "execution_count": 50,
   "metadata": {},
   "outputs": [],
   "source": [
    "df = pd.DataFrame()\n",
    "df['x_1'] =x_1\n",
    "df['x_2'] =x_2\n",
    "df['y'] =y"
   ]
  },
  {
   "cell_type": "code",
   "execution_count": 51,
   "metadata": {},
   "outputs": [
    {
     "data": {
      "text/html": [
       "<div>\n",
       "<style scoped>\n",
       "    .dataframe tbody tr th:only-of-type {\n",
       "        vertical-align: middle;\n",
       "    }\n",
       "\n",
       "    .dataframe tbody tr th {\n",
       "        vertical-align: top;\n",
       "    }\n",
       "\n",
       "    .dataframe thead th {\n",
       "        text-align: right;\n",
       "    }\n",
       "</style>\n",
       "<table border=\"1\" class=\"dataframe\">\n",
       "  <thead>\n",
       "    <tr style=\"text-align: right;\">\n",
       "      <th></th>\n",
       "      <th>x_1</th>\n",
       "      <th>x_2</th>\n",
       "      <th>y</th>\n",
       "    </tr>\n",
       "  </thead>\n",
       "  <tbody>\n",
       "    <tr>\n",
       "      <th>0</th>\n",
       "      <td>0.18</td>\n",
       "      <td>0.89</td>\n",
       "      <td>109.85</td>\n",
       "    </tr>\n",
       "    <tr>\n",
       "      <th>1</th>\n",
       "      <td>1.00</td>\n",
       "      <td>0.26</td>\n",
       "      <td>155.72</td>\n",
       "    </tr>\n",
       "    <tr>\n",
       "      <th>2</th>\n",
       "      <td>0.92</td>\n",
       "      <td>0.11</td>\n",
       "      <td>137.66</td>\n",
       "    </tr>\n",
       "    <tr>\n",
       "      <th>3</th>\n",
       "      <td>0.07</td>\n",
       "      <td>0.37</td>\n",
       "      <td>76.17</td>\n",
       "    </tr>\n",
       "    <tr>\n",
       "      <th>4</th>\n",
       "      <td>0.85</td>\n",
       "      <td>0.16</td>\n",
       "      <td>139.75</td>\n",
       "    </tr>\n",
       "  </tbody>\n",
       "</table>\n",
       "</div>"
      ],
      "text/plain": [
       "    x_1   x_2       y\n",
       "0  0.18  0.89  109.85\n",
       "1  1.00  0.26  155.72\n",
       "2  0.92  0.11  137.66\n",
       "3  0.07  0.37   76.17\n",
       "4  0.85  0.16  139.75"
      ]
     },
     "execution_count": 51,
     "metadata": {},
     "output_type": "execute_result"
    }
   ],
   "source": [
    "df.head()"
   ]
  },
  {
   "cell_type": "code",
   "execution_count": 52,
   "metadata": {},
   "outputs": [],
   "source": [
    "x = df.drop(['y'],axis=1)\n",
    "y = df['y']"
   ]
  },
  {
   "cell_type": "code",
   "execution_count": 53,
   "metadata": {},
   "outputs": [],
   "source": [
    "from sklearn.linear_model import LinearRegression"
   ]
  },
  {
   "cell_type": "code",
   "execution_count": 54,
   "metadata": {},
   "outputs": [],
   "source": [
    "model = LinearRegression()"
   ]
  },
  {
   "cell_type": "code",
   "execution_count": 55,
   "metadata": {},
   "outputs": [
    {
     "data": {
      "text/plain": [
       "LinearRegression()"
      ]
     },
     "execution_count": 55,
     "metadata": {},
     "output_type": "execute_result"
    }
   ],
   "source": [
    "model.fit(x,y)"
   ]
  },
  {
   "cell_type": "code",
   "execution_count": 56,
   "metadata": {},
   "outputs": [
    {
     "data": {
      "text/plain": [
       "(array([90.69331739, 46.46296549]), 52.411499045060836)"
      ]
     },
     "execution_count": 56,
     "metadata": {},
     "output_type": "execute_result"
    }
   ],
   "source": [
    "model.coef_,model.intercept_"
   ]
  },
  {
   "cell_type": "markdown",
   "metadata": {},
   "source": [
    "## testing"
   ]
  },
  {
   "cell_type": "code",
   "execution_count": 57,
   "metadata": {},
   "outputs": [
    {
     "name": "stdout",
     "output_type": "stream",
     "text": [
      "4\n",
      "0.49 0.18\n",
      "0.57 0.83\n",
      "0.98 0.13\n",
      "0.76 0.18\n"
     ]
    }
   ],
   "source": [
    "q = int(input())\n",
    "test = [list(map(float,input().split())) for i in range(q)]\n",
    "x_1_test = np.array([test[i][0] for i in range(len(test))])\n",
    "x_2_test = np.array([test[i][1] for i in range(len(test))])"
   ]
  },
  {
   "cell_type": "code",
   "execution_count": 58,
   "metadata": {},
   "outputs": [
    {
     "data": {
      "text/plain": [
       "array([0.49, 0.57, 0.98, 0.76])"
      ]
     },
     "execution_count": 58,
     "metadata": {},
     "output_type": "execute_result"
    }
   ],
   "source": [
    "x_1_test"
   ]
  },
  {
   "cell_type": "code",
   "execution_count": 59,
   "metadata": {},
   "outputs": [],
   "source": [
    "df1 = pd.DataFrame()\n",
    "\n",
    "df1['x_1_test'] = x_1_test\n",
    "df1['x_2_test']  = x_2_test"
   ]
  },
  {
   "cell_type": "code",
   "execution_count": 60,
   "metadata": {},
   "outputs": [
    {
     "data": {
      "text/html": [
       "<div>\n",
       "<style scoped>\n",
       "    .dataframe tbody tr th:only-of-type {\n",
       "        vertical-align: middle;\n",
       "    }\n",
       "\n",
       "    .dataframe tbody tr th {\n",
       "        vertical-align: top;\n",
       "    }\n",
       "\n",
       "    .dataframe thead th {\n",
       "        text-align: right;\n",
       "    }\n",
       "</style>\n",
       "<table border=\"1\" class=\"dataframe\">\n",
       "  <thead>\n",
       "    <tr style=\"text-align: right;\">\n",
       "      <th></th>\n",
       "      <th>x_1_test</th>\n",
       "      <th>x_2_test</th>\n",
       "    </tr>\n",
       "  </thead>\n",
       "  <tbody>\n",
       "    <tr>\n",
       "      <th>0</th>\n",
       "      <td>0.49</td>\n",
       "      <td>0.18</td>\n",
       "    </tr>\n",
       "    <tr>\n",
       "      <th>1</th>\n",
       "      <td>0.57</td>\n",
       "      <td>0.83</td>\n",
       "    </tr>\n",
       "    <tr>\n",
       "      <th>2</th>\n",
       "      <td>0.98</td>\n",
       "      <td>0.13</td>\n",
       "    </tr>\n",
       "    <tr>\n",
       "      <th>3</th>\n",
       "      <td>0.76</td>\n",
       "      <td>0.18</td>\n",
       "    </tr>\n",
       "  </tbody>\n",
       "</table>\n",
       "</div>"
      ],
      "text/plain": [
       "   x_1_test  x_2_test\n",
       "0      0.49      0.18\n",
       "1      0.57      0.83\n",
       "2      0.98      0.13\n",
       "3      0.76      0.18"
      ]
     },
     "execution_count": 60,
     "metadata": {},
     "output_type": "execute_result"
    }
   ],
   "source": [
    "df1"
   ]
  },
  {
   "cell_type": "code",
   "execution_count": 61,
   "metadata": {},
   "outputs": [
    {
     "data": {
      "text/plain": [
       "array([105.21455835, 142.67095131, 147.3311356 , 129.70175405])"
      ]
     },
     "execution_count": 61,
     "metadata": {},
     "output_type": "execute_result"
    }
   ],
   "source": [
    "model.predict(df1)"
   ]
  },
  {
   "cell_type": "code",
   "execution_count": null,
   "metadata": {},
   "outputs": [],
   "source": []
  }
 ],
 "metadata": {
  "kernelspec": {
   "display_name": "Python 3 (ipykernel)",
   "language": "python",
   "name": "python3"
  },
  "language_info": {
   "codemirror_mode": {
    "name": "ipython",
    "version": 3
   },
   "file_extension": ".py",
   "mimetype": "text/x-python",
   "name": "python",
   "nbconvert_exporter": "python",
   "pygments_lexer": "ipython3",
   "version": "3.9.13"
  }
 },
 "nbformat": 4,
 "nbformat_minor": 4
}
