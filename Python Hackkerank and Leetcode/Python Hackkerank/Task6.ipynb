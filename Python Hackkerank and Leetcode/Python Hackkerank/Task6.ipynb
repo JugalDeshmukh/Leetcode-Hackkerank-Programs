{
 "cells": [
  {
   "cell_type": "markdown",
   "id": "grateful-stewart",
   "metadata": {},
   "source": [
    "## Name: Jugal Deshmukh\n",
    "## Task-6 (Numpy)"
   ]
  },
  {
   "cell_type": "code",
   "execution_count": 1,
   "id": "featured-challenge",
   "metadata": {},
   "outputs": [
    {
     "name": "stdout",
     "output_type": "stream",
     "text": [
      "1 2 3 4 -8 -10\n",
      "[-10.  -8.   4.   3.   2.   1.]\n"
     ]
    }
   ],
   "source": [
    "#Question 1 (Arrays)\n",
    "\n",
    "import numpy\n",
    "\n",
    "def arrays(arr):\n",
    "    \n",
    "    ar1 = arr[::-1]\n",
    "    n_array = numpy.array(ar1, float)\n",
    "    return n_array\n",
    "\n",
    "\n",
    "arr = input().strip().split(' ')\n",
    "result = arrays(arr)\n",
    "print(result)"
   ]
  },
  {
   "cell_type": "code",
   "execution_count": 2,
   "id": "driving-aquatic",
   "metadata": {},
   "outputs": [
    {
     "name": "stdout",
     "output_type": "stream",
     "text": [
      "Enter the list of integers:1 2 3 4 5 6 7 8 9\n",
      "[[1 2 3]\n",
      " [4 5 6]\n",
      " [7 8 9]]\n"
     ]
    }
   ],
   "source": [
    "#Question 2 (Shape and Reshape)\n",
    "\n",
    "import numpy\n",
    "\n",
    "l = list(map(int, input(\"Enter the list of integers:\").split()))\n",
    "ar = numpy.array(l)\n",
    "#shape function of numpy converts an array of integers into a 3x3 matrix or numpy array\n",
    "ar.shape=(3,3)\n",
    "print(ar)"
   ]
  },
  {
   "cell_type": "code",
   "execution_count": 1,
   "id": "collected-produce",
   "metadata": {},
   "outputs": [
    {
     "name": "stdout",
     "output_type": "stream",
     "text": [
      "Enter the M X N form:2 2\n",
      "Enter the integers in the matrix:1 2\n",
      "Enter the integers in the matrix:3 4\n",
      "[[1 3]\n",
      " [2 4]]\n",
      "[1 2 3 4]\n"
     ]
    }
   ],
   "source": [
    "#Question 3 (Transpose and Flatten)\n",
    "\n",
    "import numpy\n",
    "\n",
    "n, m= list(map(int, input(\"Enter the M X N form:\").split()))\n",
    "l1=[]\n",
    "for i in range(n):\n",
    "    a = list(map(int, input(\"Enter the integers in the matrix:\").split()))\n",
    "    l1.append(a)\n",
    "ar = numpy.array(l1)\n",
    "#transpose function will transpose the list of integers \n",
    "print(numpy.transpose(ar))\n",
    "#flatten function will convert the transposed array of integers into single dimension\n",
    "print(ar.flatten())"
   ]
  },
  {
   "cell_type": "code",
   "execution_count": 2,
   "id": "loaded-shark",
   "metadata": {},
   "outputs": [
    {
     "name": "stdout",
     "output_type": "stream",
     "text": [
      "4 3 2\n",
      "1 2\n",
      "1 2\n",
      "1 2\n",
      "1 2\n",
      "3 4\n",
      "3 4\n",
      "3 4\n",
      "[[1 2]\n",
      " [1 2]\n",
      " [1 2]\n",
      " [1 2]\n",
      " [3 4]\n",
      " [3 4]\n",
      " [3 4]]\n"
     ]
    }
   ],
   "source": [
    "#Question 4 (Concatenate)\n",
    "import numpy as np\n",
    "\n",
    "n,m,p = map(int, input().split())\n",
    "\n",
    "l1=[]\n",
    "l2=[]\n",
    "\n",
    "for i in range(n):\n",
    "    x=list(map(int,input().split()))\n",
    "    l1.append(x)\n",
    "    \n",
    "for i in range(m):\n",
    "    y=list(map(int,input().split()))\n",
    "    l2.append(y)\n",
    "\n",
    "arr1=np.array(l1)\n",
    "arr2=np.array(l2)\n",
    "\n",
    "print(np.concatenate((arr1,arr2),axis=0))"
   ]
  },
  {
   "cell_type": "code",
   "execution_count": 3,
   "id": "awful-grill",
   "metadata": {},
   "outputs": [
    {
     "name": "stdout",
     "output_type": "stream",
     "text": [
      "3 3 3\n",
      "[[[0 0 0]\n",
      "  [0 0 0]\n",
      "  [0 0 0]]\n",
      "\n",
      " [[0 0 0]\n",
      "  [0 0 0]\n",
      "  [0 0 0]]\n",
      "\n",
      " [[0 0 0]\n",
      "  [0 0 0]\n",
      "  [0 0 0]]]\n",
      "[[[1 1 1]\n",
      "  [1 1 1]\n",
      "  [1 1 1]]\n",
      "\n",
      " [[1 1 1]\n",
      "  [1 1 1]\n",
      "  [1 1 1]]\n",
      "\n",
      " [[1 1 1]\n",
      "  [1 1 1]\n",
      "  [1 1 1]]]\n"
     ]
    }
   ],
   "source": [
    "#Question 5 (Zeros and Ones)\n",
    "import numpy as np\n",
    "\n",
    "numbers = list(map(int,input().split()))\n",
    "\n",
    "print(np.zeros(numbers,dtype=np.int))\n",
    "print(np.ones(numbers,dtype=np.int))"
   ]
  },
  {
   "cell_type": "code",
   "execution_count": 4,
   "id": "honest-caribbean",
   "metadata": {},
   "outputs": [
    {
     "name": "stdout",
     "output_type": "stream",
     "text": [
      "3 3\n",
      "[[ 1.  0.  0.]\n",
      " [ 0.  1.  0.]\n",
      " [ 0.  0.  1.]]\n"
     ]
    }
   ],
   "source": [
    "#Question 6 (Eye and Identity)\n",
    "\n",
    "import numpy as np\n",
    "\n",
    "n,m= map(int, input().split())\n",
    "\n",
    "#this is to add spaces between the integers\n",
    "np.set_printoptions(sign=\" \")\n",
    "print(np.eye(n,m))"
   ]
  },
  {
   "cell_type": "code",
   "execution_count": 5,
   "id": "statistical-sharing",
   "metadata": {},
   "outputs": [
    {
     "name": "stdout",
     "output_type": "stream",
     "text": [
      "1 4\n",
      "1 2 3 4\n",
      "5 6 7 8\n",
      "[[ 6  8 10 12]]\n",
      "[[-4 -4 -4 -4]]\n",
      "[[ 5 12 21 32]]\n",
      "[[0 0 0 0]]\n",
      "[[1 2 3 4]]\n",
      "[[    1    64  2187 65536]]\n"
     ]
    }
   ],
   "source": [
    "#Question 7 (Array Mathematics)\n",
    "import numpy as np\n",
    "\n",
    "x, y = map(int, input().split())\n",
    "\n",
    "X = np.array([list(map(int, input().split())) for _ in range(x)], int)\n",
    "Y = np.array([list(map(int, input().split())) for _ in range(x)], int)\n",
    "\n",
    "print(np.add(X,Y))\n",
    "print(np.subtract(X,Y))\n",
    "print(np.multiply(X,Y))\n",
    "print(np.floor_divide(X,Y))\n",
    "print(np.mod(X,Y))\n",
    "print(np.power(X,Y))"
   ]
  },
  {
   "cell_type": "code",
   "execution_count": 6,
   "id": "sunset-electric",
   "metadata": {},
   "outputs": [
    {
     "name": "stdout",
     "output_type": "stream",
     "text": [
      "1.1 2.2 3.3 4.4 5.5 6.6 7.7 8.8 9.9\n",
      "[ 1.  2.  3.  4.  5.  6.  7.  8.  9.]\n",
      "[  2.   3.   4.   5.   6.   7.   8.   9.  10.]\n",
      "[  1.   2.   3.   4.   6.   7.   8.   9.  10.]\n"
     ]
    }
   ],
   "source": [
    "#Question 8 (Floor, Ceil and Rint)\n",
    "\n",
    "import numpy as np\n",
    "\n",
    "list1 = list(map(float,input().split()))\n",
    "#this is to add spaces between the integers\n",
    "np.set_printoptions(sign=\" \")\n",
    "arr=np.array(list1)\n",
    "print(np.floor(arr))\n",
    "print(np.ceil(arr))\n",
    "print(np.rint(arr))"
   ]
  },
  {
   "cell_type": "code",
   "execution_count": 7,
   "id": "persistent-albania",
   "metadata": {},
   "outputs": [
    {
     "name": "stdout",
     "output_type": "stream",
     "text": [
      "2 2\n",
      "1 2\n",
      "3 4\n",
      "24\n"
     ]
    }
   ],
   "source": [
    "#Question 9 (Sum and Prod)\n",
    "import numpy as np\n",
    "\n",
    "n,m= map(int, input().split())\n",
    "\n",
    "l1=[]\n",
    "\n",
    "for i in range(n):\n",
    "    x=list(map(int,input().split()))\n",
    "    l1.append(x)\n",
    "\n",
    "arr=np.array(l1)\n",
    "print(np.prod(np.sum(arr,axis=0),axis=0))"
   ]
  },
  {
   "cell_type": "code",
   "execution_count": 1,
   "id": "chronic-boost",
   "metadata": {},
   "outputs": [
    {
     "name": "stdout",
     "output_type": "stream",
     "text": [
      "4 2\n",
      "2 5\n",
      "3 7\n",
      "1 3\n",
      "4 0\n",
      "3\n"
     ]
    }
   ],
   "source": [
    "#Question 10 (Min and Max)\n",
    "import numpy as np\n",
    "\n",
    "n,m = map(int, input().split())\n",
    "\n",
    "l1=[]\n",
    "\n",
    "for i in range(n):\n",
    "    x=list(map(int,input().split()))\n",
    "    l1.append(x)\n",
    "\n",
    "arr = np.array(l1)\n",
    "print(np.max(np.min(arr,axis=1)))"
   ]
  },
  {
   "cell_type": "code",
   "execution_count": 2,
   "id": "domestic-england",
   "metadata": {},
   "outputs": [
    {
     "name": "stdout",
     "output_type": "stream",
     "text": [
      "2 2\n",
      "1 2\n",
      "3 4\n",
      "[ 1.5  3.5]\n",
      "[ 1.  1.]\n",
      "1.11803398875\n"
     ]
    }
   ],
   "source": [
    "#Question 11 (Mean, Var and Std)\n",
    "\n",
    "import numpy as np\n",
    "\n",
    "n,m = map(int, input().split())\n",
    "\n",
    "l1=[]\n",
    "\n",
    "for i in range(n):\n",
    "    x=list(map(int,input().split()))\n",
    "    l1.append(x)\n",
    "\n",
    "arr = np.array(l1)\n",
    "np.set_printoptions(legacy='1.13')\n",
    "print(np.mean(arr,axis=1))\n",
    "print(np.var(arr,axis=0))\n",
    "print(np.std(arr))"
   ]
  },
  {
   "cell_type": "code",
   "execution_count": 10,
   "id": "common-mailing",
   "metadata": {},
   "outputs": [
    {
     "name": "stdout",
     "output_type": "stream",
     "text": [
      "2\n",
      "1 2\n",
      "3 4\n",
      "1 2\n",
      "3 4\n",
      "[[1 2]\n",
      " [3 4]]\n",
      "[[1 2]\n",
      " [3 4]]\n",
      "[[ 7 10]\n",
      " [15 22]]\n"
     ]
    }
   ],
   "source": [
    "#Question 12 (Dot and Cross)\n",
    "\n",
    "import numpy as np\n",
    "\n",
    "num = int(input())\n",
    "\n",
    "x = np.array([input().split() for i in range(num)], dtype=int)\n",
    "\n",
    "y = np.array([input().split() for i in range(num)], dtype=int)\n",
    "\n",
    "print(x)\n",
    "print(y)\n",
    "\n",
    "print(x.dot(y))"
   ]
  },
  {
   "cell_type": "code",
   "execution_count": 11,
   "id": "nervous-bumper",
   "metadata": {},
   "outputs": [
    {
     "name": "stdout",
     "output_type": "stream",
     "text": [
      "0 1\n",
      "2 3\n",
      "3\n",
      "[[0 0]\n",
      " [2 3]]\n"
     ]
    }
   ],
   "source": [
    "#Question 13 (Inner and Outer)\n",
    "import numpy as np\n",
    "\n",
    "x = np.array(input().split(),int)\n",
    "y = np.array(input().split(),int)\n",
    "\n",
    "print(np.inner(x,y))\n",
    "print(np.outer(x,y))"
   ]
  },
  {
   "cell_type": "code",
   "execution_count": 12,
   "id": "thermal-reminder",
   "metadata": {},
   "outputs": [
    {
     "name": "stdout",
     "output_type": "stream",
     "text": [
      "1.1 2 3\n",
      "0\n",
      "3.0\n"
     ]
    }
   ],
   "source": [
    "#Question 14 (Polynomials)\n",
    "\n",
    "import numpy as np\n",
    "\n",
    "l1 = list(map(float,input().split()))\n",
    "\n",
    "x = int(input())\n",
    "arr = np.array(l1)\n",
    "print(np.polyval(arr,x))"
   ]
  },
  {
   "cell_type": "code",
   "execution_count": 13,
   "id": "distant-reservation",
   "metadata": {},
   "outputs": [
    {
     "name": "stdout",
     "output_type": "stream",
     "text": [
      "2\n",
      "1.1 1.1\n",
      "1.1 1.1\n",
      "0.0\n"
     ]
    }
   ],
   "source": [
    "#Question 15 (Linear Algebra)\n",
    "\n",
    "import numpy as np\n",
    "\n",
    "n = int(input())\n",
    "\n",
    "l1=[]\n",
    "\n",
    "for i in range(n):\n",
    "    x=list(map(float,input().split()))\n",
    "    l1.append(x)\n",
    "    \n",
    "arr=np.array(l1)\n",
    "r=np.linalg.det(arr)\n",
    "print(round(r,2))"
   ]
  },
  {
   "cell_type": "code",
   "execution_count": null,
   "id": "focused-creator",
   "metadata": {},
   "outputs": [],
   "source": []
  }
 ],
 "metadata": {
  "kernelspec": {
   "display_name": "Python 3 (ipykernel)",
   "language": "python",
   "name": "python3"
  },
  "language_info": {
   "codemirror_mode": {
    "name": "ipython",
    "version": 3
   },
   "file_extension": ".py",
   "mimetype": "text/x-python",
   "name": "python",
   "nbconvert_exporter": "python",
   "pygments_lexer": "ipython3",
   "version": "3.9.13"
  }
 },
 "nbformat": 4,
 "nbformat_minor": 5
}
