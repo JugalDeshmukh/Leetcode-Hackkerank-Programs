{
 "cells": [
  {
   "cell_type": "markdown",
   "id": "official-translator",
   "metadata": {},
   "source": [
    "## Name: Jugal Deshmukh\n",
    "## Task-4 (Python Programming)"
   ]
  },
  {
   "cell_type": "code",
   "execution_count": 4,
   "id": "grand-conclusion",
   "metadata": {},
   "outputs": [
    {
     "name": "stdout",
     "output_type": "stream",
     "text": [
      "HackerRank.com presents \"Pythonist 2\".\n",
      "hACKERrANK.COM PRESENTS \"pYTHONIST 2\".\n"
     ]
    }
   ],
   "source": [
    "#Question 1 (sWAP cASE)\n",
    "def swap_case(sentence):\n",
    "    updated_string = \"\"\n",
    "    for letter in sentence:\n",
    "        if letter.isupper():\n",
    "            updated_string += letter.lower()\n",
    "        elif letter.islower():\n",
    "            updated_string += letter.upper()\n",
    "        else:\n",
    "            updated_string += letter\n",
    "    return updated_string\n",
    "\n",
    "\n",
    "if __name__ == '__main__':\n",
    "    s = input()\n",
    "    result = swap_case(s)\n",
    "    print(result)"
   ]
  },
  {
   "cell_type": "code",
   "execution_count": 1,
   "id": "liable-cannon",
   "metadata": {},
   "outputs": [
    {
     "name": "stdout",
     "output_type": "stream",
     "text": [
      "this is a string\n",
      "this-is-a-string\n"
     ]
    }
   ],
   "source": [
    "#Question 2 (String Split and Join)\n",
    "'''\n",
    "You are given a string. Split the string on a \" \" (space) delimiter and join using a - hyphen.\n",
    "'''\n",
    "def split_and_join(string):\n",
    "    return \"-\".join(string.split())\n",
    "\n",
    "if __name__ == '__main__':\n",
    "    line = input()\n",
    "    result = split_and_join(line)\n",
    "    print(result)"
   ]
  },
  {
   "cell_type": "code",
   "execution_count": 2,
   "id": "invisible-alexandria",
   "metadata": {},
   "outputs": [
    {
     "name": "stdout",
     "output_type": "stream",
     "text": [
      "Ross\n",
      "Taylor\n",
      "Hello Ross Taylor! You just delved into python.\n"
     ]
    }
   ],
   "source": [
    "#Question 3 (What's your name?)\n",
    "def print_full_name(first, last):\n",
    "    print(\"Hello {} {}! You just delved into python.\".format(first, last))\n",
    "\n",
    "if __name__ == '__main__':\n",
    "    first_name = input()\n",
    "    last_name = input()\n",
    "    print_full_name(first_name, last_name)"
   ]
  },
  {
   "cell_type": "code",
   "execution_count": 3,
   "id": "behavioral-corrections",
   "metadata": {},
   "outputs": [
    {
     "name": "stdout",
     "output_type": "stream",
     "text": [
      "old string is: abracadabra\n",
      "new string is: abrackdabra\n"
     ]
    }
   ],
   "source": [
    "#Question 4 (Mutations)\n",
    "s = \"abracadabra\"\n",
    "print(\"old string is:\",s)\n",
    "l = list(s)\n",
    "l[5] = 'k'\n",
    "s = ''.join(l)\n",
    "print(\"new string is:\",s)"
   ]
  },
  {
   "cell_type": "code",
   "execution_count": 4,
   "id": "tribal-hygiene",
   "metadata": {},
   "outputs": [
    {
     "name": "stdout",
     "output_type": "stream",
     "text": [
      "ABCDCDC\n",
      "CDC\n",
      "2\n"
     ]
    }
   ],
   "source": [
    "#Question 5 (Find a string)\n",
    "def CountSubString(string,substring):\n",
    "    \n",
    "    countss = 0\n",
    "    for i in range(len(string) - len(substring) + 1):\n",
    "        if string[i:i + len(substring)] == substring:\n",
    "            countss += 1\n",
    "    return countss\n",
    "\n",
    "if __name__ == '__main__':\n",
    "    string = input().strip()\n",
    "    substring = input().strip()\n",
    "    \n",
    "    count = CountSubString(string, substring)\n",
    "    print(count)\n"
   ]
  },
  {
   "cell_type": "code",
   "execution_count": 5,
   "id": "higher-serbia",
   "metadata": {},
   "outputs": [
    {
     "name": "stdout",
     "output_type": "stream",
     "text": [
      "Enter the string:qA2\n",
      "True\n",
      "True\n",
      "True\n",
      "True\n",
      "True\n"
     ]
    }
   ],
   "source": [
    "#Question 6 (String Validators)\n",
    "'''\n",
    "You are given a string S .\n",
    "Your task is to find out if the string S contains: \n",
    "alphanumeric characters, alphabetical characters, digits, lowercase and uppercase characters.\n",
    "'''\n",
    "if __name__ == '__main__':\n",
    "    S = input(\"Enter the string:\")\n",
    "    S_alnum = False\n",
    "    S_alpha = False\n",
    "    S_digit = False\n",
    "    S_lower = False\n",
    "    S_upper = False\n",
    "    for i in S:\n",
    "        if i.isalnum():\n",
    "            S_alnum = True\n",
    "        if i.isalpha():\n",
    "            S_alpha = True\n",
    "        if i.isdigit():\n",
    "            S_digit = True\n",
    "        if i.islower():\n",
    "            S_lower = True\n",
    "        if i.isupper():\n",
    "            S_upper = True\n",
    "\n",
    "    print(S_alnum)\n",
    "    print(S_alpha)\n",
    "    print(S_digit)\n",
    "    print(S_lower)\n",
    "    print(S_upper)"
   ]
  },
  {
   "cell_type": "code",
   "execution_count": null,
   "id": "cheap-orientation",
   "metadata": {},
   "outputs": [],
   "source": [
    "#Question 7 (Text Alignment)\n",
    "'''\n",
    "You are given a partial code that is used for generating the HackerRank Logo of variable thickness.\n",
    "Your task is to replace the blank (______) with rjust, ljust or center.\n",
    "'''\n",
    "#Replace all ______ with rjust, ljust or center. \n",
    "\n",
    "thickness = int(input()) #This must be an odd number\n",
    "c = 'H'\n",
    "\n",
    "#Top Cone\n",
    "for i in range(thickness):\n",
    "    print((c*i).rjust(thickness-1)+c+(c*i).ljust(thickness-1))\n",
    "\n",
    "#Top Pillars\n",
    "for i in range(thickness+1):\n",
    "    print((c*thickness).center(thickness*2)+(c*thickness).center(thickness*6))\n",
    "\n",
    "#Middle Belt\n",
    "for i in range((thickness+1)//2):\n",
    "    print((c*thickness*5).center(thickness*6))    \n",
    "\n",
    "#Bottom Pillars\n",
    "for i in range(thickness+1):\n",
    "    print((c*thickness).center(thickness*2)+(c*thickness).center(thickness*6))    \n",
    "\n",
    "#Bottom Cone\n",
    "for i in range(thickness):\n",
    "    print(((c*(thickness-i-1)).rjust(thickness)+c+(c*(thickness-i-1)).ljust(thickness)).rjust(thickness*6))"
   ]
  },
  {
   "cell_type": "code",
   "execution_count": 8,
   "id": "mechanical-scout",
   "metadata": {},
   "outputs": [
    {
     "name": "stdout",
     "output_type": "stream",
     "text": [
      "Enter the string:ABCDEFGHIJKLIMNOQRSTUVWXYZ\n",
      "Enter the value of width:4\n",
      "ABCD\n",
      "EFGH\n",
      "IJKL\n",
      "IMNO\n",
      "QRST\n",
      "UVWX\n",
      "YZ\n"
     ]
    }
   ],
   "source": [
    "#Question 8 (Text Wrap)\n",
    "'''\n",
    "You are given a string S and width w .\n",
    "Your task is to wrap the string into a paragraph of width w .\n",
    "'''\n",
    "import textwrap\n",
    "\n",
    "def wrap(string, max_width):\n",
    "    return textwrap.fill(string, max_width)\n",
    "\n",
    "if __name__ == '__main__':\n",
    "    string, max_width = input(\"Enter the string:\"), int(input(\"Enter the value of width:\"))\n",
    "    result = wrap(string, max_width)\n",
    "    print(result)"
   ]
  },
  {
   "cell_type": "code",
   "execution_count": 7,
   "id": "fourth-partition",
   "metadata": {},
   "outputs": [
    {
     "name": "stdout",
     "output_type": "stream",
     "text": [
      "7 21\n",
      "---------.|.---------\n",
      "------.|..|..|.------\n",
      "---.|..|..|..|..|.---\n",
      "-------WELCOME-------\n",
      "---.|..|..|..|..|.---\n",
      "------.|..|..|.------\n",
      "---------.|.---------\n"
     ]
    }
   ],
   "source": [
    "#Question 9 (Designer Door Mat)\n",
    "\n",
    "#take rows and columns and convert both to integer using map function \n",
    "rows,columns = map(int,input().split())\n",
    "#Middle row where \"WELCOME\" will be written\n",
    "middle = rows//2+1\n",
    "#Top part of door mat\n",
    "for i in range(1,middle):\n",
    "    #calculate number of .|. required and multiply with .|.\n",
    "    center = (i*2-1)*\".|.\"\n",
    "    #Move our center pattern to center using string.center method and fill left and part with \"-\" \n",
    "    print(center.center(columns,\"-\"))\n",
    "#print middle part welcome\n",
    "print(\"WELCOME\".center(columns,\"-\"))\n",
    "#create bottom part in reverse order like we did in the top part\n",
    "for i in reversed(range(1,middle)):\n",
    "    center = (i*2-1)*\".|.\"\n",
    "    print(center.center(columns,\"-\"))"
   ]
  },
  {
   "cell_type": "code",
   "execution_count": 1,
   "id": "strange-harrison",
   "metadata": {},
   "outputs": [
    {
     "name": "stdout",
     "output_type": "stream",
     "text": [
      "Enter the integer number:17\n",
      "    1     1     1     1\n",
      "    2     2     2    10\n",
      "    3     3     3    11\n",
      "    4     4     4   100\n",
      "    5     5     5   101\n",
      "    6     6     6   110\n",
      "    7     7     7   111\n",
      "    8    10     8  1000\n",
      "    9    11     9  1001\n",
      "   10    12     A  1010\n",
      "   11    13     B  1011\n",
      "   12    14     C  1100\n",
      "   13    15     D  1101\n",
      "   14    16     E  1110\n",
      "   15    17     F  1111\n",
      "   16    20    10 10000\n",
      "   17    21    11 10001\n"
     ]
    }
   ],
   "source": [
    "#Question 10 (String Formatting)\n",
    "'''\n",
    "Given an integer, n, print the following values for each integer 1 from n to :\n",
    "a) Decimal\n",
    "b) Octal\n",
    "c) Hexadecimal (capitalized)\n",
    "d) Binary\n",
    "'''\n",
    "def print_formatted(number):\n",
    "    for i in range(1, number + 1):\n",
    "        width = len(f\"{number:b}\")\n",
    "        print(f\"{i:{width}} {i:{width}o} {i:{width}X} {i:{width}b}\")\n",
    "\n",
    "if __name__ == '__main__':\n",
    "    n = int(input(\"Enter the integer number:\"))\n",
    "    print_formatted(n)"
   ]
  },
  {
   "cell_type": "code",
   "execution_count": 2,
   "id": "balanced-vertical",
   "metadata": {},
   "outputs": [
    {
     "name": "stdout",
     "output_type": "stream",
     "text": [
      "Enter the size of the rangoli:5\n",
      "--------e--------\n",
      "------e-d-e------\n",
      "----e-d-c-d-e----\n",
      "--e-d-c-b-c-d-e--\n",
      "e-d-c-b-a-b-c-d-e\n",
      "--e-d-c-b-c-d-e--\n",
      "----e-d-c-d-e----\n",
      "------e-d-e------\n",
      "--------e--------\n"
     ]
    }
   ],
   "source": [
    "#Question 11 (Alphabet Rangoli)\n",
    "def print_rangoli(size):\n",
    "    for i in range(n):\n",
    "        #To get the alphabet and also get the previous ones consecutively\n",
    "        s = '-'.join(chr(ord('a')+n-j-1) for j in range(i+1))\n",
    "        #Printing the alphabets in reverse and again in forward format\n",
    "        #Printing the line of alphabets in the center of the pattern\n",
    "        print((s+s[::-1][1:]).center(n*4-3, '-'))\n",
    "        \n",
    "    #The second for loop for (n-1) row. Same logic as previous for loop\n",
    "    for i in range(n-1):\n",
    "        #To get the alphabet and also get the previous ones consecutively\n",
    "        #Just need to change the range for j variable\n",
    "        s = '-'.join(chr(ord('a')+n-j-1) for j in range(n-i-1))\n",
    "        #Printing the alphabets in reverse and again in forward format\n",
    "        #Printing the line of alphabets in the center of the pattern\n",
    "        print((s+s[::-1][1:]).center(n*4-3, '-'))\n",
    "\n",
    "\n",
    "if __name__ == '__main__':\n",
    "    n = int(input(\"Enter the size of the rangoli:\"))\n",
    "    print_rangoli(n)"
   ]
  },
  {
   "cell_type": "code",
   "execution_count": 3,
   "id": "proud-finance",
   "metadata": {},
   "outputs": [
    {
     "name": "stdout",
     "output_type": "stream",
     "text": [
      "Enter the stringchris alan\n",
      "Chris Alan\n"
     ]
    }
   ],
   "source": [
    "#Question 12 (Capitalize!)\n",
    "String = input(\"Enter the string\").split(' ')\n",
    "CapitalizedList = []\n",
    "space = ' '\n",
    "\n",
    "#Loop through the string\n",
    "for w in String:\n",
    "    #store string in list and capitalize it\n",
    "    CapitalizedList.append(w.capitalize())\n",
    "print(space.join(CapitalizedList))"
   ]
  },
  {
   "cell_type": "code",
   "execution_count": 3,
   "id": "chinese-mechanism",
   "metadata": {},
   "outputs": [
    {
     "name": "stdout",
     "output_type": "stream",
     "text": [
      "Enter the string:BANANA\n",
      "Stuart 12\n"
     ]
    }
   ],
   "source": [
    "#Question 13 (The Minion Game)\n",
    "\n",
    "def minion_game(string):\n",
    "    \n",
    "    stringlength = len(s)\n",
    "    VowelList = ['A','E','I','O','U']\n",
    "    stuartpoints = 0\n",
    "    kevinpoints = 0\n",
    "\n",
    "    for i in range(stringlength):\n",
    "        if s[i] in VowelList:\n",
    "            kevinpoints += stringlength - i\n",
    "        else:\n",
    "            stuartpoints += stringlength - i\n",
    "        \n",
    "    if stuartpoints == kevinpoints:\n",
    "        print('Draw')\n",
    "    elif kevinpoints > stuartpoints:\n",
    "        print('Kevin',kevinpoints)\n",
    "    else:\n",
    "        print('Stuart',stuartpoints)\n",
    "    \n",
    "\n",
    "if __name__ == '__main__':\n",
    "    s = input(\"Enter the string:\")\n",
    "    minion_game(s)\n"
   ]
  },
  {
   "cell_type": "code",
   "execution_count": 1,
   "id": "democratic-compression",
   "metadata": {},
   "outputs": [
    {
     "name": "stdout",
     "output_type": "stream",
     "text": [
      "Enter the string:AABCAAADA\n",
      "Number of parts to be divided in:3\n",
      "AB\n",
      "CA\n",
      "AD\n"
     ]
    }
   ],
   "source": [
    "#Question 14 (Merge The Tools!)\n",
    "def merge_the_tools(string, k):\n",
    "    s = ''\n",
    "    count = 0\n",
    "    for i in string:\n",
    "        if i not in s:\n",
    "            s=s+i\n",
    "        count = count+1\n",
    "        \n",
    "        if(count==k):\n",
    "            print(s)\n",
    "            \n",
    "            #Again make the count=0 as need to count next substring\n",
    "            count=0\n",
    "            s=''\n",
    "            \n",
    "if __name__ == '__main__':\n",
    "    string, k = input(\"Enter the string:\"), int(input(\"Number of parts to be divided in:\"))\n",
    "    merge_the_tools(string, k)"
   ]
  },
  {
   "cell_type": "code",
   "execution_count": null,
   "id": "solved-penetration",
   "metadata": {},
   "outputs": [],
   "source": []
  }
 ],
 "metadata": {
  "kernelspec": {
   "display_name": "Python 3 (ipykernel)",
   "language": "python",
   "name": "python3"
  },
  "language_info": {
   "codemirror_mode": {
    "name": "ipython",
    "version": 3
   },
   "file_extension": ".py",
   "mimetype": "text/x-python",
   "name": "python",
   "nbconvert_exporter": "python",
   "pygments_lexer": "ipython3",
   "version": "3.9.13"
  }
 },
 "nbformat": 4,
 "nbformat_minor": 5
}
