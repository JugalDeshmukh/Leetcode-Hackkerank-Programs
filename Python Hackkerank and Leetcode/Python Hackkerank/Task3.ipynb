{
 "cells": [
  {
   "cell_type": "markdown",
   "id": "reliable-viewer",
   "metadata": {},
   "source": [
    "## Name: Jugal Deshmukh\n",
    "## Task-3 (Python Programming)"
   ]
  },
  {
   "cell_type": "code",
   "execution_count": 2,
   "id": "loved-conference",
   "metadata": {},
   "outputs": [
    {
     "name": "stdout",
     "output_type": "stream",
     "text": [
      "1+2j\n",
      "2.23606797749979\n",
      "1.1071487177940904\n"
     ]
    }
   ],
   "source": [
    "# Question 1 (Polar Coordinates)\n",
    "'''\n",
    "You are given a complex z . Your task is to convert it to polar coordinates.\n",
    "'''\n",
    "import cmath\n",
    "z = complex(input())\n",
    "pc = cmath.polar(z)\n",
    "print(pc[0])\n",
    "print(pc[1])"
   ]
  },
  {
   "cell_type": "code",
   "execution_count": 7,
   "id": "muslim-adapter",
   "metadata": {},
   "outputs": [
    {
     "name": "stdout",
     "output_type": "stream",
     "text": [
      "10\n",
      "10\n",
      "45°\n"
     ]
    }
   ],
   "source": [
    "# Question 2 (Find Angle MBC)\n",
    "import math\n",
    "\n",
    "AB = int(input())\n",
    "BC = int(input())\n",
    "\n",
    "#Calculating theta using tan\n",
    "print(round(math.degrees(math.atan(AB/BC))),chr(176),sep='')"
   ]
  },
  {
   "cell_type": "code",
   "execution_count": 8,
   "id": "parental-vatican",
   "metadata": {},
   "outputs": [
    {
     "name": "stdout",
     "output_type": "stream",
     "text": [
      "5\n",
      "1\n",
      "121\n",
      "12321\n",
      "1234321\n",
      "123454321\n"
     ]
    }
   ],
   "source": [
    "# Question 3 (Triangle Quest 2)\n",
    "for i in range(1,int(input())+1):\n",
    "    print((pow(10,i)//9)**2)"
   ]
  },
  {
   "cell_type": "code",
   "execution_count": 1,
   "id": "fourth-barrier",
   "metadata": {},
   "outputs": [
    {
     "name": "stdout",
     "output_type": "stream",
     "text": [
      "177\n",
      "10\n",
      "17\n",
      "7\n",
      "(17, 7)\n"
     ]
    }
   ],
   "source": [
    "#Question 4 (Mod Divmod)\n",
    "\n",
    "x = int(input())\n",
    "y = int(input())\n",
    "\n",
    "z = divmod(x,y)\n",
    "\n",
    "print(z[0])\n",
    "print(z[1])\n",
    "print(z)"
   ]
  },
  {
   "cell_type": "code",
   "execution_count": 2,
   "id": "average-pledge",
   "metadata": {},
   "outputs": [
    {
     "name": "stdout",
     "output_type": "stream",
     "text": [
      "3\n",
      "4\n",
      "5\n",
      "81\n",
      "1\n"
     ]
    }
   ],
   "source": [
    "#Question 5 (Power - Mod Power)\n",
    "\n",
    "x = int(input())\n",
    "y = int(input())\n",
    "z = int(input())\n",
    "\n",
    "print(pow(x,y))\n",
    "print(pow(x,y,z))"
   ]
  },
  {
   "cell_type": "code",
   "execution_count": 3,
   "id": "understood-venezuela",
   "metadata": {},
   "outputs": [
    {
     "name": "stdout",
     "output_type": "stream",
     "text": [
      "9\n",
      "29\n",
      "7\n",
      "27\n",
      "4710194409608608369201743232\n"
     ]
    }
   ],
   "source": [
    "# Question 6 (Integers Come In All Sizes)\n",
    "\n",
    "a = int(input())\n",
    "b = int(input())\n",
    "c = int(input())\n",
    "d = int(input())\n",
    "\n",
    "x = pow(a,b)\n",
    "y = pow(c,d)\n",
    "\n",
    "z = x+y\n",
    "\n",
    "print(z)"
   ]
  },
  {
   "cell_type": "code",
   "execution_count": 5,
   "id": "blond-karma",
   "metadata": {},
   "outputs": [
    {
     "name": "stdout",
     "output_type": "stream",
     "text": [
      "Enter the number of rows: 4\n",
      " \n",
      "1  \n",
      "2 2  \n",
      "3 3 3  \n",
      "4 4 4 4  \n"
     ]
    }
   ],
   "source": [
    "# Question 7 (Triangle Quest)\n",
    "\n",
    "r = int(input(\"Enter the number of rows: \"))  \n",
    "\n",
    "# Outer loop will print the number of rows  \n",
    "for i in range(r+1):  \n",
    "    # Inner loop will print the value of i after each iteration  \n",
    "    for j in range(i):  \n",
    "        print(i, end=\" \")  # print number  \n",
    "    # line after each row to display pattern correctly  \n",
    "    print(\" \")"
   ]
  },
  {
   "cell_type": "code",
   "execution_count": null,
   "id": "drawn-moses",
   "metadata": {},
   "outputs": [],
   "source": []
  }
 ],
 "metadata": {
  "kernelspec": {
   "display_name": "Python 3 (ipykernel)",
   "language": "python",
   "name": "python3"
  },
  "language_info": {
   "codemirror_mode": {
    "name": "ipython",
    "version": 3
   },
   "file_extension": ".py",
   "mimetype": "text/x-python",
   "name": "python",
   "nbconvert_exporter": "python",
   "pygments_lexer": "ipython3",
   "version": "3.9.13"
  }
 },
 "nbformat": 4,
 "nbformat_minor": 5
}
