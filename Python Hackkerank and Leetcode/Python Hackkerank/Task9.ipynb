{
 "cells": [
  {
   "cell_type": "markdown",
   "id": "tired-california",
   "metadata": {},
   "source": [
    "## Hypothesis Testing - Task 9\n"
   ]
  },
  {
   "cell_type": "code",
   "execution_count": 2,
   "id": "posted-consortium",
   "metadata": {},
   "outputs": [],
   "source": [
    "import matplotlib.pyplot as plt\n",
    "import numpy as np\n",
    "from scipy.stats import norm"
   ]
  },
  {
   "cell_type": "code",
   "execution_count": 3,
   "id": "lightweight-customer",
   "metadata": {},
   "outputs": [],
   "source": [
    "# z_score for sampling distributions\n",
    "\n",
    "def z_score(sample_size, sample_mean, pop_mean, pop_std):\n",
    "    numerator = sample_mean - pop_mean\n",
    "    denomenator = pop_std / sample_size**0.5\n",
    "    return numerator / denomenator"
   ]
  },
  {
   "cell_type": "markdown",
   "id": "mighty-light",
   "metadata": {},
   "source": [
    "## Hypothesis Testing Explanation\n",
    "Step - 1:  \n",
    "Alternate Hypothesis (Bold claim): $ H_1 \\Rightarrow >, <, \\neq  $  \n",
    "Null Hypothesis (Status Quo): $ H_0 \\Rightarrow \\leq, \\geq, = $\n",
    "\n",
    "Step - 2:  \n",
    "* Collect a sample of size n\n",
    "* Compute the mean from this sample $ \\bar{x} $\n",
    "\n",
    "Step - 3:\n",
    "Compute Test Statistic:  \n",
    "* If population variance is known $$ z = \\frac{\\bar{x} - \\mu}{\\sigma/\\sqrt[2]{n}}$$\n",
    "\n",
    "* If population variance is unknown $$ t = \\frac{\\bar{x} - \\mu}{s/\\sqrt[2]{n}} $$\n",
    "\n",
    "Step - 4:\n",
    "Decide significance level $ \\alpha $\n",
    "\n",
    "Step - 5.1: Apply decision rule:\n",
    "* If test statistic is z-score -\n",
    "    * Two tailed z-test: $$ |z| > z_\\frac{\\alpha}{2} \\Rightarrow Accept H_1 \\ or \\ Reject H_0$$\n",
    "    * Right tailed z-test: $$ z > z_\\alpha \\Rightarrow Accept H_1 \\ or \\ Reject H_0 $$\n",
    "    * Left tailed z-test: $$ z < -z_\\alpha \\Rightarrow Accept H_1 \\ or \\ Reject H_0 $$\n",
    "    \n",
    "* If test statistic is t-score\n",
    "    * Two tailed t-test: $$ |t| > t_{n-1,\\frac{\\alpha}{2}} \\Rightarrow Accept H_1 \\ or \\ Reject H_0 $$\n",
    "    * Right tailed t-test: $$ t > t_{n-1,\\alpha} \\Rightarrow Accept H_1 \\ or \\ Reject H_0 $$\n",
    "    * Left tailed t-test: $$ t < t_{n-1,\\alpha} \\Rightarrow Accept H_1 \\ or \\ Reject H_0 $$\n",
    "\n",
    "Step - 5.2: Compute p-value $ P(Test \\ Statistics | H_0) $\n",
    "* For two tailed test: $$ p \\ value = 2 * (1.0 - cdf(test \\ statistic)) $$\n",
    "* For one tailed test: $$ p \\ value = (1.0 - cdf(test \\ statistic)) $$\n",
    "Now, $$ if (p \\ value < \\alpha) \\Rightarrow Accept H_1 \\ or \\ Reject H_0 $$"
   ]
  },
  {
   "cell_type": "code",
   "execution_count": null,
   "id": "provincial-fruit",
   "metadata": {},
   "outputs": [],
   "source": [
    "'''\n",
    "Q-1: Pista House selling Hyderabadi Chicken Dum biryani claims that each parcel packet has 500 grams of biryani \n",
    "(also mentioned on the label of packet). \n",
    "You are sceptic of their claims and believe that on average each packet does not contain 500 grams of biryani. \n",
    "How do you prove your claim? \n",
    "'''"
   ]
  },
  {
   "cell_type": "markdown",
   "id": "infectious-committee",
   "metadata": {},
   "source": [
    "Step - 1:  \n",
    "Alternate Hypothesis (Bold claim): $$ H_1: \\mu \\neq 500 $$\n",
    "Null Hypothesis (Status Quo): $$ H_0: \\mu = 500 $$\n",
    "\n",
    "Step - 2:  \n",
    "* Collect a sample of size n = 10 $$ [475, 210, 450, 490, 480, 466, 440, 515, 503, 555] $$\n",
    "* Compute sample mean $$ \\bar{x} = 458.4 $$\n",
    "\n",
    "Step - 3:\n",
    "Compute Test Statistic: $$ z = \\frac{\\bar{x} - \\mu}{\\sigma/\\sqrt[2]{n}}$$\n",
    "\n",
    "Step - 4:\n",
    "Decide $ \\alpha $ = 0.05\n",
    "\n",
    "Step - 5.1: Two tailed z-test: $$ reject H_0 if |z| > z_\\frac{\\alpha}{2} $$\n",
    "\n",
    "Step - 5.2: Compute p-value"
   ]
  },
  {
   "cell_type": "code",
   "execution_count": 4,
   "id": "eleven-helicopter",
   "metadata": {},
   "outputs": [
    {
     "data": {
      "text/plain": [
       "458.4"
      ]
     },
     "execution_count": 4,
     "metadata": {},
     "output_type": "execute_result"
    }
   ],
   "source": [
    "l = [475, 210, 450, 490, 480, 466, 440, 515, 503, 555]\n",
    "\n",
    "sum(l)/len(l)"
   ]
  },
  {
   "cell_type": "code",
   "execution_count": 5,
   "id": "engaged-crest",
   "metadata": {},
   "outputs": [
    {
     "name": "stdout",
     "output_type": "stream",
     "text": [
      "1.959963984540054\n"
     ]
    }
   ],
   "source": [
    "# Two Tail - Calculating the z-critical value\n",
    "\n",
    "alpha = 1 - 0.95\n",
    "\n",
    "z_critical = norm.ppf(1 - alpha/2) # Two tailed Z score for 95% Confidence Level\n",
    "\n",
    "print(z_critical)"
   ]
  },
  {
   "cell_type": "code",
   "execution_count": 7,
   "id": "returning-crystal",
   "metadata": {},
   "outputs": [],
   "source": [
    "# Defining the sample and population parameters\n",
    "\n",
    "sample_size = 10\n",
    "sample_mean = 458.4\n",
    "pop_mean = 500\n",
    "pop_std = 88.56"
   ]
  },
  {
   "cell_type": "code",
   "execution_count": 8,
   "id": "split-diagram",
   "metadata": {},
   "outputs": [
    {
     "name": "stdout",
     "output_type": "stream",
     "text": [
      "-1.4854420806572342\n"
     ]
    }
   ],
   "source": [
    "# Calculating the z-score\n",
    "\n",
    "z = z_score(sample_size, sample_mean, pop_mean, pop_std)\n",
    "\n",
    "print(z)"
   ]
  },
  {
   "cell_type": "code",
   "execution_count": 9,
   "id": "forbidden-recommendation",
   "metadata": {},
   "outputs": [
    {
     "data": {
      "text/plain": [
       "Text(458.4, 0.0007, 'x_bar')"
      ]
     },
     "execution_count": 9,
     "metadata": {},
     "output_type": "execute_result"
    },
    {
     "data": {
      "image/png": "[encoded data removed]",
      "text/plain": [
       "<Figure size 432x288 with 1 Axes>"
      ]
     },
     "metadata": {
      "needs_background": "light"
     },
     "output_type": "display_data"
    }
   ],
   "source": [
    "# Ploting the sampling distribution with rejection regions\n",
    "\n",
    "# Defining the x minimum and x maximum\n",
    "x_min = 400\n",
    "x_max = 600\n",
    "\n",
    "\n",
    "# Defining the sampling distribution mean and sampling distribution std\n",
    "mean = pop_mean\n",
    "std = pop_std / sample_size**0.5\n",
    "\n",
    "\n",
    "# Ploting the graph and setting the x limits\n",
    "x = np.linspace(x_min, x_max, 100)\n",
    "y = norm.pdf(x, mean, std)\n",
    "plt.xlim(x_min, x_max)\n",
    "plt.plot(x, y)\n",
    "\n",
    "\n",
    "# Computing the left and right critical values (Two tailed Test)\n",
    "z_critical_left = pop_mean + (-z_critical * std)\n",
    "z_critical_right = pop_mean + (z_critical * std)\n",
    "\n",
    "\n",
    "# Shading the left rejection region\n",
    "x1 = np.linspace(x_min, z_critical_left, 100)\n",
    "y1 = norm.pdf(x1, mean, std)\n",
    "plt.fill_between(x1, y1, color='orange')\n",
    "\n",
    "\n",
    "# Shading the right rejection region\n",
    "x2 = np.linspace(z_critical_right, x_max, 100)\n",
    "y2 = norm.pdf(x2, mean, std)\n",
    "plt.fill_between(x2, y2, color='orange')\n",
    "\n",
    "\n",
    "# Ploting the sample mean and concluding the results \n",
    "plt.scatter(sample_mean, 0)\n",
    "plt.annotate(\"x_bar\", (sample_mean, 0.0007))\n",
    "\n",
    "\n",
    "# In this case sample mean falls in the rejection region\n",
    "# i.e. here we reject the Null Hypothesis"
   ]
  },
  {
   "cell_type": "code",
   "execution_count": 10,
   "id": "romantic-catalog",
   "metadata": {},
   "outputs": [
    {
     "name": "stdout",
     "output_type": "stream",
     "text": [
      "Fail to reject Null Hypothesis\n"
     ]
    }
   ],
   "source": [
    "# Conclusion using z test\n",
    "\n",
    "if(np.abs(z) > z_critical):\n",
    "    print(\"Reject Null Hypothesis\")\n",
    "else:\n",
    "    print(\"Fail to reject Null Hypothesis\")"
   ]
  },
  {
   "cell_type": "code",
   "execution_count": 11,
   "id": "gothic-activation",
   "metadata": {},
   "outputs": [
    {
     "name": "stdout",
     "output_type": "stream",
     "text": [
      "p_value =  0.13742675548939753\n",
      "Fail to reject Null Hypothesis\n"
     ]
    }
   ],
   "source": [
    "# Conclusion using p test\n",
    "\n",
    "p_value = 2 * (1.0 - norm.cdf(np.abs(z)))\n",
    "\n",
    "print(\"p_value = \", p_value)\n",
    "\n",
    "if(p_value < 0.05):\n",
    "    print(\"Reject Null Hypothesis\")\n",
    "else:\n",
    "    print(\"Fail to reject Null Hypothesis\")"
   ]
  },
  {
   "cell_type": "code",
   "execution_count": null,
   "id": "charming-rabbit",
   "metadata": {},
   "outputs": [],
   "source": [
    "'''\n",
    "Q-2: You have developed a new Natural Language Processing Algorithms and done a user study. \n",
    "You claim that the average rating given by the users is greater than 4 on a scale of 1 to 5. \n",
    "How do you prove this to your client? \n",
    "'''"
   ]
  },
  {
   "cell_type": "markdown",
   "id": "uniform-continent",
   "metadata": {},
   "source": [
    "Step - 1:  \n",
    "Alternate Hypothesis (Bold Claim): $$ H_1: \\mu > 4 $$\n",
    "Null Hypothesis (Status Quo): $$ H_0: \\mu \\leq 4 $$\n",
    "\n",
    "Step - 2:  \n",
    "* Collect a sample of size n = 20 $$ [4, 2, 5, 3, 5, 3, 5, 5, 4, 3, 4, 5, 5, 4, 4, 5, 4, 5, 4, 5] $$\n",
    "* Compute sample mean $$ \\bar{x} = 4.2 $$\n",
    "\n",
    "Step - 3:\n",
    "Compute Test Statistic: $$ z = \\frac{\\bar{x} - \\mu}{\\sigma/\\sqrt[2]{n}}$$\n",
    "\n",
    "Step - 4:\n",
    "Decide $ \\alpha $\n",
    "\n",
    "Step - 5.1: Right tailed z-test: $$ reject H_0 if ? $$\n",
    "\n",
    "Step - 5.2: Compute p-value"
   ]
  },
  {
   "cell_type": "code",
   "execution_count": 19,
   "id": "powerful-salmon",
   "metadata": {},
   "outputs": [
    {
     "data": {
      "text/plain": [
       "4.2"
      ]
     },
     "execution_count": 19,
     "metadata": {},
     "output_type": "execute_result"
    }
   ],
   "source": [
    "l = [4, 2, 5, 3, 5, 3, 5, 5, 4, 3, 4, 5, 5, 4, 4, 5, 4, 5, 4, 5]\n",
    "sum(l)/len(l)"
   ]
  },
  {
   "cell_type": "code",
   "execution_count": 20,
   "id": "expected-freeware",
   "metadata": {},
   "outputs": [
    {
     "name": "stdout",
     "output_type": "stream",
     "text": [
      "1.6448536269514722\n"
     ]
    }
   ],
   "source": [
    "# One Tail - Calculating the z-critical value\n",
    "\n",
    "alpha = 1-0.95\n",
    "\n",
    "z_critical = norm.ppf(1 - alpha)\n",
    "\n",
    "print(z_critical)"
   ]
  },
  {
   "cell_type": "code",
   "execution_count": 21,
   "id": "possible-prize",
   "metadata": {},
   "outputs": [],
   "source": [
    "# Defining the sample and population parameters\n",
    "\n",
    "sample_size = 20\n",
    "sample_mean = 4.2\n",
    "pop_mean = 4\n",
    "pop_std = 0.87"
   ]
  },
  {
   "cell_type": "code",
   "execution_count": 22,
   "id": "rural-horror",
   "metadata": {},
   "outputs": [
    {
     "name": "stdout",
     "output_type": "stream",
     "text": [
      "1.028077231034387\n"
     ]
    }
   ],
   "source": [
    "# Calculating the z-score\n",
    "\n",
    "z = z_score(sample_size, sample_mean, pop_mean, pop_std)\n",
    "\n",
    "print(z)"
   ]
  },
  {
   "cell_type": "code",
   "execution_count": 23,
   "id": "charitable-abortion",
   "metadata": {},
   "outputs": [
    {
     "data": {
      "text/plain": [
       "Text(4.2, 0.1, 'x_bar')"
      ]
     },
     "execution_count": 23,
     "metadata": {},
     "output_type": "execute_result"
    },
    {
     "data": {
      "image/png": "[encoded data removed]",
      "text/plain": [
       "<Figure size 432x288 with 1 Axes>"
      ]
     },
     "metadata": {
      "needs_background": "light"
     },
     "output_type": "display_data"
    }
   ],
   "source": [
    "# Ploting the sampling distribution with rejection regions\n",
    "\n",
    "# Defining the x minimum and x maximum\n",
    "x_min = 3.5\n",
    "x_max = 4.5\n",
    "\n",
    "\n",
    "# Defining the sampling distribution mean and sampling distribution std\n",
    "mean = pop_mean\n",
    "std = pop_std / (sample_size**0.5)\n",
    "\n",
    "\n",
    "# Ploting the graph and setting the x limits\n",
    "x = np.linspace(x_min, x_max, 100)\n",
    "y = norm.pdf(x, mean, std)\n",
    "plt.xlim(x_min, x_max)\n",
    "plt.plot(x, y)\n",
    "\n",
    "\n",
    "# Computing the right critical value (Right tailed Test)\n",
    "z_critical_right = pop_mean + (z_critical * std)\n",
    "\n",
    "\n",
    "# Shading the right rejection region\n",
    "x1 = np.linspace(z_critical_right, x_max, 100)\n",
    "y1 = norm.pdf(x1, mean, std)\n",
    "plt.fill_between(x1, y1, color='orange')\n",
    "\n",
    "\n",
    "# Ploting the sample mean and concluding the results \n",
    "plt.scatter(sample_mean, 0)\n",
    "plt.annotate(\"x_bar\", (sample_mean, 0.1))\n",
    "\n",
    "# In this case sample mean falls in the rejection region\n",
    "# i.e. Reject the Null Hypothesis"
   ]
  },
  {
   "cell_type": "code",
   "execution_count": 24,
   "id": "random-hierarchy",
   "metadata": {},
   "outputs": [
    {
     "name": "stdout",
     "output_type": "stream",
     "text": [
      "Fail to reject Null Hypothesis\n"
     ]
    }
   ],
   "source": [
    "# Conclusion using z test\n",
    "\n",
    "if(z > z_critical):\n",
    "    print(\"Reject Null Hypothesis\")\n",
    "else:\n",
    "    print(\"Fail to reject Null Hypothesis\")"
   ]
  },
  {
   "cell_type": "code",
   "execution_count": 25,
   "id": "animated-employer",
   "metadata": {},
   "outputs": [
    {
     "name": "stdout",
     "output_type": "stream",
     "text": [
      "p_value =  0.15195675003537423\n",
      "Fail to reject Null Hypothesis\n"
     ]
    }
   ],
   "source": [
    "# Conclusion using p test\n",
    "\n",
    "p_value = 1.0 - norm.cdf(np.abs(z))\n",
    "\n",
    "print(\"p_value = \", p_value)\n",
    "\n",
    "if(p_value < 0.05):\n",
    "    print(\"Reject Null Hypothesis\")\n",
    "else:\n",
    "    print(\"Fail to reject Null Hypothesis\")"
   ]
  },
  {
   "cell_type": "code",
   "execution_count": null,
   "id": "synthetic-albania",
   "metadata": {},
   "outputs": [],
   "source": [
    "'''\n",
    "Q-3: TATA has developed a better fuel management system for the SUV segment. \n",
    "They claim that with this system, on average the SUV's mileage is at least 15 km/litre? \n",
    "'''"
   ]
  },
  {
   "cell_type": "markdown",
   "id": "palestinian-union",
   "metadata": {},
   "source": [
    "<b>Q-3: TATA has developed a better fuel management system for the SUV segment. They claim that with this system, on average the SUV's mileage is at least 15 km/litre? (Given that the population std is 1)</b>\n",
    "\n",
    "Step - 1:  \n",
    "Alternate Hypothesis (Bold Claim): $$ H_1: ? $$\n",
    "Null Hypothesis (Status Quo): $$ H_0: ? $$\n",
    "\n",
    "Step - 2:  \n",
    "* Collect a sample of size n = 20 $$ [14.08, 14.13, 15.65, 13.78, 16.26, 14.97, 15.36, 15.81, 14.53, 16.79, 15.78, 16.98, 13.23, 15.43, 15.46, 13.88, 14.31, 14.41, 15.76, 15.38] $$\n",
    "* Compute sample mean $$ \\bar{x} = ? $$\n",
    "\n",
    "Step - 3:\n",
    "Compute Test Statistic: $$ z = \\frac{\\bar{x} - \\mu}{\\sigma/\\sqrt[2]{n}}$$\n",
    "\n",
    "Step - 4:\n",
    "Decide $ \\alpha $\n",
    "\n",
    "Step - 5.1: ? tailed z-test: $$ reject H_0 if ? $$\n",
    "\n",
    "Step - 5.2: Compute p-value"
   ]
  },
  {
   "cell_type": "code",
   "execution_count": 26,
   "id": "failing-collins",
   "metadata": {},
   "outputs": [
    {
     "name": "stdout",
     "output_type": "stream",
     "text": [
      "1.6448536269514722\n"
     ]
    }
   ],
   "source": [
    "# One Tail\n",
    "\n",
    "alpha = 1-0.95\n",
    "\n",
    "z_critical = norm.ppf(1 - alpha)\n",
    "\n",
    "print(z_critical)"
   ]
  },
  {
   "cell_type": "code",
   "execution_count": 27,
   "id": "answering-advocate",
   "metadata": {},
   "outputs": [],
   "source": [
    "sample_size = 20\n",
    "sample_mean = 15.1\n",
    "pop_mean = 15\n",
    "pop_std = 1"
   ]
  },
  {
   "cell_type": "code",
   "execution_count": 28,
   "id": "executive-sucking",
   "metadata": {},
   "outputs": [
    {
     "name": "stdout",
     "output_type": "stream",
     "text": [
      "0.4472135954999564\n"
     ]
    }
   ],
   "source": [
    "z = z_score(sample_size, sample_mean, pop_mean, pop_std)\n",
    "print(z)"
   ]
  },
  {
   "cell_type": "code",
   "execution_count": 29,
   "id": "aboriginal-seeking",
   "metadata": {},
   "outputs": [
    {
     "data": {
      "text/plain": [
       "Text(15.1, 0.1, 'x_bar')"
      ]
     },
     "execution_count": 29,
     "metadata": {},
     "output_type": "execute_result"
    },
    {
     "data": {
      "image/png": "[encoded data removed]",
      "text/plain": [
       "<Figure size 432x288 with 1 Axes>"
      ]
     },
     "metadata": {
      "needs_background": "light"
     },
     "output_type": "display_data"
    }
   ],
   "source": [
    "x_min = 13\n",
    "x_max = 17\n",
    "\n",
    "mean = pop_mean\n",
    "std = pop_std / (sample_size**0.5)\n",
    "\n",
    "x = np.linspace(x_min, x_max, 100)\n",
    "y = norm.pdf(x, mean, std)\n",
    "\n",
    "plt.xlim(x_min, x_max)\n",
    "# plt.ylim(0, 0.03)\n",
    "\n",
    "plt.plot(x, y)\n",
    "\n",
    "z_critical_right = pop_mean + (z_critical * std)\n",
    "\n",
    "x1 = np.linspace(z_critical_right, x_max, 100)\n",
    "y1 = norm.pdf(x1, mean, std)\n",
    "plt.fill_between(x1, y1, color='orange')\n",
    "\n",
    "plt.scatter(sample_mean, 0)\n",
    "plt.annotate(\"x_bar\", (sample_mean, 0.1))\n",
    "\n",
    "# In this case sample mean falls in the acceptance region\n",
    "# i.e. Fail to Reject the Null Hypothesis"
   ]
  },
  {
   "cell_type": "code",
   "execution_count": 30,
   "id": "greatest-welsh",
   "metadata": {},
   "outputs": [
    {
     "name": "stdout",
     "output_type": "stream",
     "text": [
      "Fail to reject Null Hypothesis\n"
     ]
    }
   ],
   "source": [
    "if(z > z_critical):\n",
    "    print(\"Reject Null Hypothesis\")\n",
    "else:\n",
    "    print(\"Fail to reject Null Hypothesis\")"
   ]
  },
  {
   "cell_type": "code",
   "execution_count": 31,
   "id": "awful-above",
   "metadata": {},
   "outputs": [
    {
     "name": "stdout",
     "output_type": "stream",
     "text": [
      "p_value =  0.32736042300928914\n",
      "Fail to reject Null Hypothesis\n"
     ]
    }
   ],
   "source": [
    "p_value = 1.0 - norm.cdf(np.abs(z))\n",
    "\n",
    "print(\"p_value = \", p_value)\n",
    "\n",
    "if(p_value < 0.05):\n",
    "    print(\"Reject Null Hypothesis\")\n",
    "else:\n",
    "    print(\"Fail to reject Null Hypothesis\")"
   ]
  },
  {
   "cell_type": "code",
   "execution_count": null,
   "id": "preceding-sending",
   "metadata": {},
   "outputs": [],
   "source": [
    "'''\n",
    "Q-4: You have developed a new Machine Learning Application \n",
    "and claim that on average it takes less than 100 ms to predict for any future datapoint. \n",
    "How do you convince your client about this claim? \n",
    "'''"
   ]
  },
  {
   "cell_type": "markdown",
   "id": "experienced-pendant",
   "metadata": {},
   "source": [
    "Step - 1:  \n",
    "Alternate Hypothesis (Bold Claim): $$ H_1: ? $$\n",
    "Null Hypothesis (Status Quo): $$ H_0: ? $$\n",
    "\n",
    "Step - 2:  \n",
    "* Collect a sample of size n = 100\n",
    "* Compute sample mean $$ \\bar{x} = 97.5 $$\n",
    "\n",
    "Step - 3:\n",
    "Compute Test Statistic: $$ z = \\frac{\\bar{x} - \\mu}{\\sigma/\\sqrt[2]{n}}$$\n",
    "\n",
    "Step - 4:\n",
    "Decide $ \\alpha $\n",
    "\n",
    "Step - 5.1: Left tailed z-test: $$ reject H_0 if ? $$\n",
    "\n",
    "Step - 5.2: Compute p-value"
   ]
  },
  {
   "cell_type": "code",
   "execution_count": 32,
   "id": "maritime-lloyd",
   "metadata": {},
   "outputs": [
    {
     "name": "stdout",
     "output_type": "stream",
     "text": [
      "2.3263478740408408\n"
     ]
    }
   ],
   "source": [
    "# One Tail\n",
    "\n",
    "alpha = 1 - 0.99\n",
    "\n",
    "z_critical = norm.ppf(1 - alpha)\n",
    "\n",
    "print(z_critical)"
   ]
  },
  {
   "cell_type": "code",
   "execution_count": 33,
   "id": "central-environment",
   "metadata": {},
   "outputs": [],
   "source": [
    "sample_size = 100\n",
    "sample_mean = 97.5\n",
    "pop_mean = 100\n",
    "pop_std = 10"
   ]
  },
  {
   "cell_type": "code",
   "execution_count": 34,
   "id": "demographic-lottery",
   "metadata": {},
   "outputs": [
    {
     "name": "stdout",
     "output_type": "stream",
     "text": [
      "-2.5\n"
     ]
    }
   ],
   "source": [
    "z = z_score(sample_size, sample_mean, pop_mean, pop_std)\n",
    "\n",
    "print(z)"
   ]
  },
  {
   "cell_type": "code",
   "execution_count": 35,
   "id": "banned-infrared",
   "metadata": {},
   "outputs": [
    {
     "data": {
      "text/plain": [
       "Text(97.5, 0.02, 'x_bar')"
      ]
     },
     "execution_count": 35,
     "metadata": {},
     "output_type": "execute_result"
    },
    {
     "data": {
      "image/png": "[encoded data removed]",
      "text/plain": [
       "<Figure size 432x288 with 1 Axes>"
      ]
     },
     "metadata": {
      "needs_background": "light"
     },
     "output_type": "display_data"
    }
   ],
   "source": [
    "x_min = 95\n",
    "x_max = 105\n",
    "\n",
    "mean = pop_mean\n",
    "std = pop_std / (sample_size**0.5)\n",
    "\n",
    "x = np.linspace(x_min, x_max, 100)\n",
    "y = norm.pdf(x, mean, std)\n",
    "\n",
    "plt.xlim(x_min, x_max)\n",
    "# plt.ylim(0, 0.03)\n",
    "\n",
    "plt.plot(x, y)\n",
    "\n",
    "z_critical_left = pop_mean + (-z_critical * std)\n",
    "\n",
    "x1 = np.linspace(x_min, z_critical_left, 100)\n",
    "y1 = norm.pdf(x1, mean, std)\n",
    "plt.fill_between(x1, y1, color='orange')\n",
    "\n",
    "plt.scatter(sample_mean, 0)\n",
    "plt.annotate(\"x_bar\", (sample_mean, 0.02))\n",
    "\n",
    "# In this case sample mean falls in the rejection region\n",
    "\n",
    "# i.e. Reject Null Hypothesis"
   ]
  },
  {
   "cell_type": "code",
   "execution_count": 36,
   "id": "associate-coach",
   "metadata": {},
   "outputs": [
    {
     "name": "stdout",
     "output_type": "stream",
     "text": [
      "Reject Null Hypothesis\n"
     ]
    }
   ],
   "source": [
    "if(z < -z_critical):\n",
    "    print(\"Reject Null Hypothesis\")\n",
    "else:\n",
    "    print(\"Fail to reject Null Hypothesis\")"
   ]
  },
  {
   "cell_type": "code",
   "execution_count": 37,
   "id": "animated-productivity",
   "metadata": {},
   "outputs": [
    {
     "name": "stdout",
     "output_type": "stream",
     "text": [
      "p_value =  0.006209665325776159\n",
      "Reject Null Hypothesis\n"
     ]
    }
   ],
   "source": [
    "p_value = 1.0 - norm.cdf(np.abs(z))\n",
    "\n",
    "print(\"p_value = \", p_value)\n",
    "\n",
    "if(p_value < 0.01):\n",
    "    print(\"Reject Null Hypothesis\")\n",
    "else:\n",
    "    print(\"Fail to reject Null Hypothesis\")"
   ]
  },
  {
   "cell_type": "code",
   "execution_count": null,
   "id": "involved-invasion",
   "metadata": {},
   "outputs": [],
   "source": []
  }
 ],
 "metadata": {
  "kernelspec": {
   "display_name": "Python 3 (ipykernel)",
   "language": "python",
   "name": "python3"
  },
  "language_info": {
   "codemirror_mode": {
    "name": "ipython",
    "version": 3
   },
   "file_extension": ".py",
   "mimetype": "text/x-python",
   "name": "python",
   "nbconvert_exporter": "python",
   "pygments_lexer": "ipython3",
   "version": "3.9.13"
  }
 },
 "nbformat": 4,
 "nbformat_minor": 5
}
