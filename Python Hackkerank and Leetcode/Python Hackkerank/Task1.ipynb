{
 "cells": [
  {
   "cell_type": "markdown",
   "id": "literary-elephant",
   "metadata": {},
   "source": [
    "## Name: Jugal Deshmukh\n",
    "## Task-1 (Python Programming)"
   ]
  },
  {
   "cell_type": "code",
   "execution_count": 3,
   "id": "respected-questionnaire",
   "metadata": {},
   "outputs": [
    {
     "name": "stdout",
     "output_type": "stream",
     "text": [
      "Hello, World!\n"
     ]
    }
   ],
   "source": [
    "#Question 1 (print() function)\n",
    "print(\"Hello, World!\")"
   ]
  },
  {
   "cell_type": "code",
   "execution_count": 1,
   "id": "proud-luther",
   "metadata": {},
   "outputs": [
    {
     "name": "stdout",
     "output_type": "stream",
     "text": [
      "3\n",
      "2\n",
      "5\n",
      "1\n",
      "6\n"
     ]
    }
   ],
   "source": [
    "# Question 2 (Arithmetic Operators)\n",
    "from __future__ import division\n",
    "\n",
    "if __name__ ==  '__main__':\n",
    "    a = int(input())\n",
    "    b = int(input())\n",
    "    \n",
    "    print(a+b)\n",
    "    print(a-b)\n",
    "    print(a*b)"
   ]
  },
  {
   "cell_type": "code",
   "execution_count": 2,
   "id": "twelve-institute",
   "metadata": {},
   "outputs": [
    {
     "name": "stdout",
     "output_type": "stream",
     "text": [
      "4\n",
      "3\n",
      "1\n",
      "1.3333333333333333\n"
     ]
    }
   ],
   "source": [
    "# Question 3 (Floor division and division)\n",
    "from __future__ import division\n",
    "\n",
    "if __name__ ==  '__main__':\n",
    "    a = int(input())\n",
    "    b = int(input())\n",
    "    \n",
    "    print(a//b) #floor division operation\n",
    "    print(a/b) #normal division operation"
   ]
  },
  {
   "cell_type": "code",
   "execution_count": 3,
   "id": "closed-transmission",
   "metadata": {},
   "outputs": [
    {
     "name": "stdout",
     "output_type": "stream",
     "text": [
      "0\n",
      "1\n",
      "4\n",
      "9\n",
      "16\n"
     ]
    }
   ],
   "source": [
    "#Question 4 (Loops)\n",
    "\n",
    "sqr = 0\n",
    "for i in range(0,5):\n",
    "    sqr = i*i\n",
    "    print(sqr)\n"
   ]
  },
  {
   "cell_type": "code",
   "execution_count": 5,
   "id": "norman-smooth",
   "metadata": {},
   "outputs": [
    {
     "name": "stdout",
     "output_type": "stream",
     "text": [
      "enter a number24\n",
      "Not Weird\n"
     ]
    }
   ],
   "source": [
    "# Question 5 (if else)\n",
    "'''\n",
    "Given an integer, , perform the following conditional actions:\n",
    "\n",
    "If n is odd, print Weird\n",
    "If n is even and in the inclusive range of 2 to 5 , print Not Weird\n",
    "If n is even and in the inclusive range of 6 to 20 , print Weird\n",
    "If n is even and greater than 20 , print Not Weird\n",
    "'''\n",
    "n = int(input(\"enter a number\"))\n",
    "\n",
    "#if n is odd\n",
    "if(n%2!=0):\n",
    "    print(\"Weird\")\n",
    "elif(n%2==0 and 2>=n<=5):\n",
    "    print(\"Not Weird\")\n",
    "elif(n%2==0 and 6>=n<=20):\n",
    "    print(\"Weird\")\n",
    "elif(n>20):\n",
    "    print(\"Not Weird\")\n"
   ]
  },
  {
   "cell_type": "code",
   "execution_count": 13,
   "id": "occasional-battery",
   "metadata": {},
   "outputs": [
    {
     "name": "stdout",
     "output_type": "stream",
     "text": [
      "False\n",
      "True\n"
     ]
    }
   ],
   "source": [
    "# Question 6 (Write a function)\n",
    "# leap year function problem\n",
    "\n",
    "#defining the is_leap() function\n",
    "def is_leap(year):\n",
    "    \n",
    "    if(year % 4) == 0:\n",
    "        if(year % 100) == 0:\n",
    "            if(year % 400) == 0:\n",
    "                #print(\"It is a leap year\")\n",
    "                return True\n",
    "            else:\n",
    "                #print(\"It is not a leap year\")\n",
    "                return False\n",
    "        else:\n",
    "            #print(\"It is a leap year\")\n",
    "            return True\n",
    "        \n",
    "    else:\n",
    "        #print(\"It is not a leap year\")\n",
    "        return False\n",
    "\n",
    "#calling the is_leap() function\n",
    "print(is_leap(1990)) # this is not a leap year\n",
    "print(is_leap(2000)) # this is a leap year"
   ]
  },
  {
   "cell_type": "code",
   "execution_count": 18,
   "id": "lasting-series",
   "metadata": {},
   "outputs": [
    {
     "name": "stdout",
     "output_type": "stream",
     "text": [
      "enter a number:3\n",
      "123"
     ]
    }
   ],
   "source": [
    "# Question 7 (Print function)\n",
    "'''\n",
    "Print the list of integers from 1 through n as a string, without spaces.\n",
    "Example if n = 5\n",
    "output should be 12345\n",
    "'''\n",
    "n = int(input(\"enter a number:\"))\n",
    "for i in range(1,n+1):\n",
    "    print(i,end=\"\")\n",
    "    "
   ]
  },
  {
   "cell_type": "code",
   "execution_count": null,
   "id": "confident-focus",
   "metadata": {},
   "outputs": [],
   "source": []
  }
 ],
 "metadata": {
  "kernelspec": {
   "display_name": "Python 3 (ipykernel)",
   "language": "python",
   "name": "python3"
  },
  "language_info": {
   "codemirror_mode": {
    "name": "ipython",
    "version": 3
   },
   "file_extension": ".py",
   "mimetype": "text/x-python",
   "name": "python",
   "nbconvert_exporter": "python",
   "pygments_lexer": "ipython3",
   "version": "3.9.13"
  }
 },
 "nbformat": 4,
 "nbformat_minor": 5
}
