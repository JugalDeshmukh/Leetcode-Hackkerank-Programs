{
 "cells": [
  {
   "cell_type": "markdown",
   "id": "grateful-toner",
   "metadata": {},
   "source": [
    "## Name: Jugal Deshmukh\n",
    "## Task-2 (Python Programming)"
   ]
  },
  {
   "cell_type": "code",
   "execution_count": 3,
   "id": "organized-infrared",
   "metadata": {},
   "outputs": [],
   "source": [
    "# Question 1 (List Comprehensions)\n",
    "# Note: Not familiar with list comprehensions"
   ]
  },
  {
   "cell_type": "code",
   "execution_count": 11,
   "id": "fabulous-miami",
   "metadata": {},
   "outputs": [
    {
     "name": "stdout",
     "output_type": "stream",
     "text": [
      "enter the number of participants5\n",
      "2 3 6 6 5\n",
      "The runner up score is: 5\n"
     ]
    }
   ],
   "source": [
    "# Question 2 (Find the Runner-Up Score!)\n",
    "\n",
    "n = int(input(\"enter the number of participants\"))\n",
    "a = [int(x) for x in input().split()]\n",
    "larg = runnerup = -100\n",
    "for x in a:\n",
    "    if x > larg:\n",
    "        temp = larg\n",
    "        larg = x\n",
    "        runnerup = temp\n",
    "    elif x > runnerup and x != larg:\n",
    "        runnerup = x\n",
    "print(\"The runner up score is:\",runnerup)"
   ]
  },
  {
   "cell_type": "code",
   "execution_count": null,
   "id": "another-pricing",
   "metadata": {},
   "outputs": [],
   "source": [
    "# Question 3 (Nested Lists)\n",
    "'''\n",
    "here are  students in this class whose names and grades are assembled to build the following list:  \n",
    "python students = [['Harry', 37.21], ['Berry', 37.21], ['Tina', 37.2], ['Akriti', 41], ['Harsh', 39]].\n",
    "The lowest grade of  belongs to Tina. The second lowest grade of  belongs to both Harry and Berry, \n",
    "so we order their names alphabetically and print each name on a new line.\n",
    "'''\n",
    "# Note: Not able to get the logic of the answer"
   ]
  },
  {
   "cell_type": "code",
   "execution_count": 1,
   "id": "endless-travel",
   "metadata": {},
   "outputs": [
    {
     "name": "stdout",
     "output_type": "stream",
     "text": [
      "2\n",
      "Harsh 25 26 27\n",
      "Anurag 32 22 32\n",
      "Anurag\n",
      "28.67\n"
     ]
    }
   ],
   "source": [
    "# Question 4 (Finding The Percentage)\n",
    "#Import decimal module for conversion to decimal datatype\n",
    "from decimal import Decimal\n",
    "\n",
    "if __name__ == '__main__':\n",
    "    n = int(input())\n",
    "    student_marks = {}\n",
    "    for _ in range(n):\n",
    "        name, *line = input().split()\n",
    "        scores = list(map(float, line))\n",
    "        student_marks[name] = scores\n",
    "    stud_name = input()\n",
    "\n",
    "\n",
    "# Extract the values into the list scores_list\n",
    "scores_list = student_marks[stud_name]\n",
    "\n",
    "# Store the sum of score_list in total_scores variable\n",
    "total_scores = sum(scores_list)\n",
    "\n",
    "# Convert the floats to decimals and average the scores: avg\n",
    "avg = Decimal(total_scores/3)\n",
    "\n",
    "# Print the mean of the scores, correct to two decimals\n",
    "print(round(avg,2))\n"
   ]
  },
  {
   "cell_type": "code",
   "execution_count": 4,
   "id": "improving-processing",
   "metadata": {},
   "outputs": [
    {
     "name": "stdout",
     "output_type": "stream",
     "text": [
      "12\n",
      "insert 0 5\n",
      "insert 1 10\n",
      "insert 0 6\n",
      "print\n",
      "[6, 5, 10]\n",
      "remove 6\n",
      "append 9\n",
      "append 1\n",
      "sort\n",
      "print\n",
      "[1, 5, 9, 10]\n",
      "pop\n",
      "reverse\n",
      "print\n",
      "[9, 5, 1]\n"
     ]
    }
   ],
   "source": [
    "# Question 5 (Lists)\n",
    "'''\n",
    "Consider a list (list = []). You can perform the following commands:\n",
    "\n",
    "insert i e: Insert integer  at position .\n",
    "print: Print the list.\n",
    "remove e: Delete the first occurrence of integer .\n",
    "append e: Insert integer  at the end of the list.\n",
    "sort: Sort the list.\n",
    "pop: Pop the last element from the list.\n",
    "reverse: Reverse the list.\n",
    "\n",
    "Initialize your list and read in the value of  followed \n",
    "by  lines of commands where each command will be of the  types listed above. \n",
    "Iterate through each command in order and perform the corresponding operation on your list.\n",
    "'''\n",
    "if __name__ == '__main__':\n",
    "    N = int(input())\n",
    "    array = []\n",
    "    for i in range(0, N):\n",
    "        temp = input()\n",
    "        list_index = temp.strip().split(\" \")\n",
    "        user_input = list_index[0]\n",
    "\n",
    "        if user_input == \"print\":\n",
    "            print(array)\n",
    "        elif user_input == \"sort\":\n",
    "            array.sort()\n",
    "        elif user_input == \"reverse\":\n",
    "            array.reverse()\n",
    "        elif user_input == \"pop\":\n",
    "            array.pop()\n",
    "        elif user_input == \"count\":\n",
    "            val = int(list_index[1])\n",
    "            array.count(val)\n",
    "        elif user_input == \"index\":\n",
    "            val = int(list_index[1])\n",
    "            array.index(val)\n",
    "        elif user_input == \"remove\":\n",
    "            val = int(list_index[1])\n",
    "            array.remove(val)\n",
    "        elif user_input == \"append\":\n",
    "            val = int(list_index[1])\n",
    "            array.append(val)\n",
    "        elif user_input == \"insert\":\n",
    "            loc = int(list_index[1])\n",
    "            val = int(list_index[2])\n",
    "            array.insert(loc, val)\n"
   ]
  },
  {
   "cell_type": "code",
   "execution_count": 5,
   "id": "available-characteristic",
   "metadata": {},
   "outputs": [
    {
     "name": "stdout",
     "output_type": "stream",
     "text": [
      "2\n",
      "1 2\n",
      "3713081631934410656\n"
     ]
    }
   ],
   "source": [
    "# Question 6 (Tuples)\n",
    "'''\n",
    "Given an integer, , and  space-separated integers as input, create a tuple, , of those  integers. \n",
    "Then compute and print the result of hash(t).\n",
    "Note: hash() is one of the functions in the __builtins__ module, so it need not be imported.\n",
    "'''\n",
    "if __name__ == '__main__':\n",
    "    n = int(input())\n",
    "    integer_list = map(int, input().split())\n",
    "    t = tuple(integer_list)\n",
    "    print(hash(t))"
   ]
  },
  {
   "cell_type": "code",
   "execution_count": 7,
   "id": "fatty-briefing",
   "metadata": {},
   "outputs": [
    {
     "name": "stdout",
     "output_type": "stream",
     "text": [
      "10\n",
      "161 182 161 154 176 170 167 171 170 174\n",
      "169.375\n",
      "None\n"
     ]
    }
   ],
   "source": [
    "# Question 7 (Introduction To Sets)\n",
    "def average(array):\n",
    "    array=set(array)\n",
    "    avg = sum(array)/len(array)\n",
    "    print(avg)\n",
    "    \n",
    "if __name__ == '__main__':\n",
    "    n = int(input())\n",
    "    arr = list(map(int, input().split()))\n",
    "    result = average(arr)\n",
    "    print(result)"
   ]
  },
  {
   "cell_type": "code",
   "execution_count": null,
   "id": "cultural-judge",
   "metadata": {},
   "outputs": [],
   "source": [
    "# Question 8 (No Idea)\n",
    "# Note: Not able to solve this question as not familiar with collections and advance sets concept"
   ]
  },
  {
   "cell_type": "code",
   "execution_count": 8,
   "id": "stable-legislature",
   "metadata": {},
   "outputs": [
    {
     "name": "stdout",
     "output_type": "stream",
     "text": [
      "Enter Set1 values4\n",
      "2 4 5 9\n",
      "Enter Set2 values4\n",
      "2 4 11 12\n",
      "5\n",
      "9\n",
      "11\n",
      "12\n"
     ]
    }
   ],
   "source": [
    "# Question 9 (Symmetric Difference between 2 sets of integers)\n",
    "\n",
    "#Take the number of values and input values for both the sets: Set1 and Set2\n",
    "M = int(input(\"Enter Set1 values\"))\n",
    "Set1 = set(map(int, input().split()))\n",
    "N = int(input(\"Enter Set2 values\"))\n",
    "Set2 = set(map(int, input().split()))\n",
    "\n",
    "#Find out the different values between both the sets \n",
    "Set1Diff = Set1.difference(Set2)\n",
    "Set2Diff = Set2.difference(Set1)\n",
    "\n",
    "#Take the union of the symmetric difference, sort it and print it in ascending order \n",
    "for i in sorted(Set1Diff.union(Set2Diff)):\n",
    "    print(i)\n"
   ]
  },
  {
   "cell_type": "code",
   "execution_count": 9,
   "id": "lucky-daisy",
   "metadata": {},
   "outputs": [
    {
     "name": "stdout",
     "output_type": "stream",
     "text": [
      "7\n",
      "UK\n",
      "China\n",
      "USA\n",
      "France\n",
      "New Zealand\n",
      "UK\n",
      "France\n",
      "5\n"
     ]
    }
   ],
   "source": [
    "# Question 10 (Set.add())\n",
    "\n",
    "num = int(input())\n",
    "CountrySet = set()\n",
    "for i in range(num):\n",
    "    CountryName = input()\n",
    "    CountrySet.add(CountryName)\n",
    "print(len(CountrySet))\n"
   ]
  },
  {
   "cell_type": "code",
   "execution_count": 10,
   "id": "approved-optics",
   "metadata": {},
   "outputs": [
    {
     "name": "stdout",
     "output_type": "stream",
     "text": [
      "9\n",
      "1 2 3 4 5 6 7 8 9\n",
      "10\n",
      "pop\n",
      "remove 9\n",
      "discard 9\n",
      "discard 8\n",
      "remove 7\n",
      "pop\n",
      "discard 6\n",
      "remove 5\n",
      "pop\n",
      "discard 5\n",
      "4\n"
     ]
    }
   ],
   "source": [
    "# Question 11 (Set.discard(), .remove(), .pop())\n",
    "num = int(input())\n",
    "s = set(map(int, input().split())) \n",
    "num = int(input())\n",
    "for i in range(num):\n",
    "    c = list(input().split(' '))\n",
    "    if (len(c) == 1):\n",
    "        s.pop()\n",
    "    else:\n",
    "        value = int(c[1])\n",
    "        s.discard(value)\n",
    "print(sum(s))"
   ]
  },
  {
   "cell_type": "code",
   "execution_count": 11,
   "id": "southern-excuse",
   "metadata": {},
   "outputs": [
    {
     "name": "stdout",
     "output_type": "stream",
     "text": [
      "9\n",
      "1 2 3 4 5 6 7 8 9\n",
      "9\n",
      "10 1 2 3 11 21 55 6 8\n",
      "13\n"
     ]
    }
   ],
   "source": [
    "#Question 12 (Set.union() operation)\n",
    "'''\n",
    "The students of District College have subscriptions to English and French newspapers. \n",
    "Some students have subscribed only to English, some have subscribed to only French \n",
    "and some have subscribed to both newspapers.\n",
    "You are given two sets of student roll numbers. One set has subscribed to the English newspaper, \n",
    "and the other set is subscribed to the French newspaper. \n",
    "The same student could be in both sets. \n",
    "Your task is to find the total number of students who have subscribed to at least one newspaper.\n",
    "'''\n",
    "x = input()\n",
    "English = set(map(int,input().split()))\n",
    "y = input()\n",
    "French = set(map(int,input().split()))\n",
    "print(len(English.union(French)))"
   ]
  },
  {
   "cell_type": "code",
   "execution_count": 12,
   "id": "posted-thanks",
   "metadata": {},
   "outputs": [
    {
     "name": "stdout",
     "output_type": "stream",
     "text": [
      "9\n",
      "1 2 3 4 5 6 7 8 9\n",
      "9\n",
      "10 1 2 3 11 21 55 6 8\n",
      "5\n"
     ]
    }
   ],
   "source": [
    "#Question 13 (Set.intersection() operation)\n",
    "'''\n",
    "Your task is to find the total number of students who have subscribed to both newspapers.\n",
    "'''\n",
    "x = int(input())\n",
    "English = set(map(int,input().split()))\n",
    "y = int(input())\n",
    "French = set(map(int,input().split()))\n",
    "print(len(English & French))\n",
    "# Note: & is set.intersection python sign"
   ]
  },
  {
   "cell_type": "code",
   "execution_count": 13,
   "id": "advance-uzbekistan",
   "metadata": {},
   "outputs": [
    {
     "name": "stdout",
     "output_type": "stream",
     "text": [
      "9\n",
      "1 2 3 4 5 6 7 8 9\n",
      "9\n",
      "10 1 2 3 11 21 55 6 8\n",
      "4\n"
     ]
    }
   ],
   "source": [
    "#Question 14 (Set.difference() operation) \n",
    "'''\n",
    "Your task is to find the total number of students who have subscribed to only English newspapers.\n",
    "'''\n",
    "x = int(input())\n",
    "English = set(map(int,input().split()))\n",
    "y = int(input())\n",
    "French = set(map(int,input().split()))\n",
    "print(len(English - French))\n",
    "# Note: - is set.difference python sign"
   ]
  },
  {
   "cell_type": "code",
   "execution_count": 14,
   "id": "perceived-wallace",
   "metadata": {},
   "outputs": [
    {
     "name": "stdout",
     "output_type": "stream",
     "text": [
      "9\n",
      "1 2 3 4 5 6 7 8 9\n",
      "9\n",
      "10 1 2 3 11 21 55 6 8\n",
      "8\n"
     ]
    }
   ],
   "source": [
    "# Question 15 (Set.symmetric_difference() operation)  \n",
    "'''\n",
    "Your task is to find the total number of students who have subscribed to either the English or the French newspaper but not both.\n",
    "'''\n",
    "x = int(input())\n",
    "English = set(map(int,input().split()))\n",
    "y = int(input())\n",
    "French = set(map(int,input().split()))\n",
    "print(len(English ^ French))\n",
    "# Note: ^ is set.symmetric_difference python sign "
   ]
  },
  {
   "cell_type": "code",
   "execution_count": 2,
   "id": "interstate-charles",
   "metadata": {},
   "outputs": [
    {
     "name": "stdout",
     "output_type": "stream",
     "text": [
      "16\n",
      "1 2 3 4 5 6 7 8 9 10 11 12 13 14 24 52\n",
      "4\n",
      "intersection_update 10\n",
      "2 3 5 6 8 9 1 4 7 11\n",
      "update 2\n",
      "55 66\n",
      "symmetric_difference_update 5\n",
      "22 7 35 62 58\n",
      "difference_update 7\n",
      "11 22 35 55 58 62 66\n",
      "38\n"
     ]
    }
   ],
   "source": [
    "# Question 16 (Set Mutations)\n",
    "n = int(input())\n",
    "x = set(map(int,input().split()))\n",
    "N = int(input())\n",
    "for i in range(N):\n",
    "    c = input().split()\n",
    "    choice = c[0]\n",
    "    s = set(map(int,input().split()))\n",
    "\n",
    "    if (choice == 'update'):\n",
    "        x |= s\n",
    "    elif (choice == 'intersection_update'):\n",
    "        x &= s\n",
    "    elif (choice == 'difference_update'):\n",
    "        x -= s\n",
    "    elif (choice == 'symmetric_difference_update'):\n",
    "        x ^= s\n",
    "print(sum(x))\n",
    "\n"
   ]
  },
  {
   "cell_type": "code",
   "execution_count": 1,
   "id": "curious-disney",
   "metadata": {},
   "outputs": [
    {
     "name": "stdout",
     "output_type": "stream",
     "text": [
      "5\n",
      "1 2 3 6 5 4 4 2 5 3 6 1 6 5 3 2 4 1 2 5 1 4 3 6 8 4 3 1 5 6 2\n",
      "8\n"
     ]
    }
   ],
   "source": [
    "# Question 17 (The Captain's Room)\n",
    "if __name__ == \"__main__\":\n",
    "    k = int(input().strip())\n",
    "    numbers = list(map(int, input().strip().split(' ')))\n",
    "    \n",
    "    print((sum(set(numbers))*k - sum(numbers))//(k-1))"
   ]
  },
  {
   "cell_type": "code",
   "execution_count": 4,
   "id": "sporting-cyprus",
   "metadata": {},
   "outputs": [
    {
     "name": "stdout",
     "output_type": "stream",
     "text": [
      "3\n",
      "5\n",
      "1 2 3 5 6\n",
      "9\n",
      "9 8 5 6 3 2 1 4 7\n",
      "True\n",
      "1\n",
      "2\n",
      "5\n",
      "3 6 5 4 1\n",
      "False\n",
      "7\n",
      "1 2 3 5 6 8 9\n",
      "3\n",
      "9 8 2\n",
      "False\n"
     ]
    }
   ],
   "source": [
    "#Question 18 (Check Subset)\n",
    "for i in range(int(input())): \n",
    "    x = int(input()); A = set(input().split()) \n",
    "    y = int(input()); B = set(input().split())\n",
    "    print((A & B) == A)"
   ]
  },
  {
   "cell_type": "code",
   "execution_count": null,
   "id": "canadian-resident",
   "metadata": {},
   "outputs": [],
   "source": [
    "# Question 19 (Check Strict Superset)\n",
    "# Note: Not familiar with strict superset in programming"
   ]
  }
 ],
 "metadata": {
  "kernelspec": {
   "display_name": "Python 3 (ipykernel)",
   "language": "python",
   "name": "python3"
  },
  "language_info": {
   "codemirror_mode": {
    "name": "ipython",
    "version": 3
   },
   "file_extension": ".py",
   "mimetype": "text/x-python",
   "name": "python",
   "nbconvert_exporter": "python",
   "pygments_lexer": "ipython3",
   "version": "3.9.13"
  }
 },
 "nbformat": 4,
 "nbformat_minor": 5
}
