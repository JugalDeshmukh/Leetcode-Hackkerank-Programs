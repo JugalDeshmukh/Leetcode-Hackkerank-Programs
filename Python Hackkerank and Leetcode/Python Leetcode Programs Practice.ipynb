{
 "cells": [
  {
   "cell_type": "markdown",
   "id": "nervous-minute",
   "metadata": {},
   "source": [
    "## Python Leetcode Programs Practice "
   ]
  },
  {
   "cell_type": "markdown",
   "id": "otherwise-finder",
   "metadata": {},
   "source": [
    "### 1. Move Zeroes\n",
    "\n",
    "Input = [0,1,0,3,12] <br>\n",
    "Output = [1,3,12,0,0]\n",
    "\n",
    "Rules: <br>\n",
    "#You must do this in place without making an array copy <br>\n",
    "#Minimize the total number of operations"
   ]
  },
  {
   "cell_type": "code",
   "execution_count": 4,
   "id": "complete-surgeon",
   "metadata": {},
   "outputs": [
    {
     "ename": "NameError",
     "evalue": "name 'List' is not defined",
     "output_type": "error",
     "traceback": [
      "\u001b[1;31m---------------------------------------------------------------------------\u001b[0m",
      "\u001b[1;31mNameError\u001b[0m                                 Traceback (most recent call last)",
      "\u001b[1;32m<ipython-input-4-71d9f53d4ad6>\u001b[0m in \u001b[0;36m<module>\u001b[1;34m\u001b[0m\n\u001b[1;32m----> 1\u001b[1;33m \u001b[1;32mclass\u001b[0m \u001b[0mSolution\u001b[0m\u001b[1;33m:\u001b[0m\u001b[1;33m\u001b[0m\u001b[1;33m\u001b[0m\u001b[0m\n\u001b[0m\u001b[0;32m      2\u001b[0m     \u001b[1;32mdef\u001b[0m \u001b[0mmoveZeroes\u001b[0m\u001b[1;33m(\u001b[0m\u001b[0mself\u001b[0m\u001b[1;33m,\u001b[0m \u001b[0mnums\u001b[0m\u001b[1;33m:\u001b[0m \u001b[0mList\u001b[0m\u001b[1;33m[\u001b[0m\u001b[0mint\u001b[0m\u001b[1;33m]\u001b[0m\u001b[1;33m)\u001b[0m \u001b[1;33m->\u001b[0m \u001b[1;32mNone\u001b[0m\u001b[1;33m:\u001b[0m\u001b[1;33m\u001b[0m\u001b[1;33m\u001b[0m\u001b[0m\n\u001b[0;32m      3\u001b[0m         \"\"\"\n\u001b[0;32m      4\u001b[0m         \u001b[0mDo\u001b[0m \u001b[1;32mnot\u001b[0m \u001b[1;32mreturn\u001b[0m \u001b[0manything\u001b[0m\u001b[1;33m,\u001b[0m \u001b[0mmodify\u001b[0m \u001b[0mnums\u001b[0m \u001b[1;32min\u001b[0m\u001b[1;33m-\u001b[0m\u001b[0mplace\u001b[0m \u001b[0minstead\u001b[0m\u001b[1;33m.\u001b[0m\u001b[1;33m\u001b[0m\u001b[1;33m\u001b[0m\u001b[0m\n\u001b[0;32m      5\u001b[0m         \"\"\"\n",
      "\u001b[1;32m<ipython-input-4-71d9f53d4ad6>\u001b[0m in \u001b[0;36mSolution\u001b[1;34m()\u001b[0m\n\u001b[0;32m      1\u001b[0m \u001b[1;32mclass\u001b[0m \u001b[0mSolution\u001b[0m\u001b[1;33m:\u001b[0m\u001b[1;33m\u001b[0m\u001b[1;33m\u001b[0m\u001b[0m\n\u001b[1;32m----> 2\u001b[1;33m     \u001b[1;32mdef\u001b[0m \u001b[0mmoveZeroes\u001b[0m\u001b[1;33m(\u001b[0m\u001b[0mself\u001b[0m\u001b[1;33m,\u001b[0m \u001b[0mnums\u001b[0m\u001b[1;33m:\u001b[0m \u001b[0mList\u001b[0m\u001b[1;33m[\u001b[0m\u001b[0mint\u001b[0m\u001b[1;33m]\u001b[0m\u001b[1;33m)\u001b[0m \u001b[1;33m->\u001b[0m \u001b[1;32mNone\u001b[0m\u001b[1;33m:\u001b[0m\u001b[1;33m\u001b[0m\u001b[1;33m\u001b[0m\u001b[0m\n\u001b[0m\u001b[0;32m      3\u001b[0m         \"\"\"\n\u001b[0;32m      4\u001b[0m         \u001b[0mDo\u001b[0m \u001b[1;32mnot\u001b[0m \u001b[1;32mreturn\u001b[0m \u001b[0manything\u001b[0m\u001b[1;33m,\u001b[0m \u001b[0mmodify\u001b[0m \u001b[0mnums\u001b[0m \u001b[1;32min\u001b[0m\u001b[1;33m-\u001b[0m\u001b[0mplace\u001b[0m \u001b[0minstead\u001b[0m\u001b[1;33m.\u001b[0m\u001b[1;33m\u001b[0m\u001b[1;33m\u001b[0m\u001b[0m\n\u001b[0;32m      5\u001b[0m         \"\"\"\n",
      "\u001b[1;31mNameError\u001b[0m: name 'List' is not defined"
     ]
    }
   ],
   "source": [
    "# Solution 1 - Move Zeroes\n",
    "class Solution:\n",
    "    def moveZeroes(self, nums: List[int]) -> None:\n",
    "        \"\"\"\n",
    "        Do not return anything, modify nums in-place instead.\n",
    "        \"\"\"\n",
    "        prev_ind=0\n",
    "        for i in range(0,len(nums)):\n",
    "            if(nums[i]!=0):\n",
    "                hold = nums[prev_ind]\n",
    "                nums[prev_ind]=nums[i]\n",
    "                nums[i]=hold\n",
    "                prev_ind+=1\n",
    "\n",
    "nums = [0,1,0,3,12]\n",
    "moveZeroes(nums)"
   ]
  },
  {
   "cell_type": "markdown",
   "id": "improving-occasions",
   "metadata": {},
   "source": [
    "### 2 Reverse String Program\n",
    "\n",
    "Write a function that reverses a string. The input string is given as an array of characters s. <br>\n",
    "\n",
    "You must do this by modifying the input array in-place with O(1) extra memory.\n",
    "\n",
    "Input: s = [\"h\",\"e\",\"l\",\"l\",\"o\"] <br>\n",
    "Output: [\"o\",\"l\",\"l\",\"e\",\"h\"]"
   ]
  },
  {
   "cell_type": "code",
   "execution_count": null,
   "id": "needed-publicity",
   "metadata": {},
   "outputs": [],
   "source": [
    "##2 Solution - Reverse String\n",
    "\n",
    "class Solution:\n",
    "    def reverseString(self, s: List[str]) -> None:\n",
    "        \"\"\"\n",
    "        Do not return anything, modify s in-place instead.\n",
    "        \"\"\"\n",
    "        left = 0\n",
    "        right = len(s) - 1\n",
    "        while left<right:\n",
    "            hold=s[left]\n",
    "            s[left]=s[right]\n",
    "            s[right]=hold\n",
    "            left+=1\n",
    "            right-=1\n",
    "            "
   ]
  },
  {
   "cell_type": "markdown",
   "id": "shaped-blame",
   "metadata": {},
   "source": [
    "### 3 Reverse String II\n",
    "\n",
    "Given a string s and an integer k, reverse the first k characters for every 2k characters counting from the start of the string. <br>\n",
    "\n",
    "If there are fewer than k characters left, reverse all of them. If there are less than 2k but greater than or equal to k characters, then reverse the first k characters and leave the other as original.\n",
    "\n"
   ]
  },
  {
   "cell_type": "code",
   "execution_count": null,
   "id": "blank-distinction",
   "metadata": {},
   "outputs": [],
   "source": [
    "class Solution:\n",
    "    def reverseStr(self, s: str, k: int) -> str:\n",
    "        if k>=len(s):\n",
    "            s[::-1]\n",
    "        s=list(s)\n",
    "        for i in range(0,len(s),2*k):\n",
    "            s[i:i+k]=(s[i:i+k])[::-1]\n",
    "        return\"\".join(s)\n"
   ]
  },
  {
   "cell_type": "markdown",
   "id": "lesbian-closer",
   "metadata": {},
   "source": [
    "### 4 Reverse Vowels in string\n",
    "\n",
    "Given a string s, reverse only all the vowels in the string and return it. <br>\n",
    "\n",
    "The vowels are 'a', 'e', 'i', 'o', and 'u', and they can appear in both lower and upper cases, more than once.<br<\n",
    "\n",
    "Input: s = \"hello\" <br>\n",
    "Output: \"holle\" <br>"
   ]
  },
  {
   "cell_type": "code",
   "execution_count": null,
   "id": "unlimited-verification",
   "metadata": {},
   "outputs": [],
   "source": [
    "class Solution:\n",
    "    def reverseVowels(self, s: str) -> str:\n",
    "        left = 0\n",
    "        right = len(s)-1\n",
    "        vowels=['a','e','i','o','u','A','E','I','O','U']\n",
    "        RV=list(s)\n",
    "        while left<right:\n",
    "            if RV[left] in vowels and RV[right] in vowels:\n",
    "                RV[left],RV[right]=RV[right],RV[left]\n",
    "                left+=1\n",
    "                right-=1\n",
    "            elif not RV[left] in vowels:\n",
    "                left+=1\n",
    "            elif not RV[right] in vowels:\n",
    "                right-=1\n",
    "\n",
    "        return\"\".join(RV)\n",
    "    \n",
    "            "
   ]
  },
  {
   "cell_type": "markdown",
   "id": "liable-moscow",
   "metadata": {},
   "source": [
    "### 5.Kids With the Greatest Number of Candies\n",
    "\n",
    "Given the array candies and the integer extraCandies, where candies[i] represents the number of candies that the ith kid has.\n",
    "\n",
    "For each kid check if there is a way to distribute extraCandies among the kids such that they can have the greatest number of candies among them. Notice that multiple kids can have the greatest number of candies."
   ]
  },
  {
   "cell_type": "code",
   "execution_count": null,
   "id": "straight-marijuana",
   "metadata": {},
   "outputs": [],
   "source": [
    "def kidsWithCandies(self, candies, extraCandies):\n",
    "    return [candy + extraCandies >= max(candies) for candy in candies]\n",
    "\n"
   ]
  },
  {
   "cell_type": "markdown",
   "id": "outdoor-equation",
   "metadata": {},
   "source": [
    "### 6. Richest Customer's Wealth\n",
    "\n",
    "You are given an m x n integer grid accounts where accounts[i][j] is the amount of money the i​​​​​​​​​​​th​​​​ customer has in the j​​​​​​​​​​​th​​​​ bank. Return the wealth that the richest customer has.\n",
    "\n",
    "A customer's wealth is the amount of money they have in all their bank accounts. The richest customer is the customer that has the maximum wealth.\n"
   ]
  },
  {
   "cell_type": "code",
   "execution_count": null,
   "id": "crude-brief",
   "metadata": {},
   "outputs": [],
   "source": [
    "def maximumWealth(self, accounts):\n",
    "    return max([sum(row) for row in accounts])"
   ]
  },
  {
   "cell_type": "markdown",
   "id": "a0aa1864",
   "metadata": {},
   "source": [
    "### 7. Two-Sum\n",
    "\n",
    "Given an array of integers nums and an integer target, return indices of the two numbers such that they add up to target.\n",
    "\n",
    "You may assume that each input would have exactly one solution, and you may not use the same element twice.\n",
    "\n",
    "You can return the answer in any order.\n",
    "\n",
    "Input: nums = [2,7,11,15], target = 9\n",
    "Output: [0,1]\n",
    "Explanation: Because nums[0] + nums[1] == 9, we return [0, 1]."
   ]
  },
  {
   "cell_type": "code",
   "execution_count": null,
   "id": "61828b2c",
   "metadata": {},
   "outputs": [],
   "source": [
    "class Solution(object):\n",
    "    def twoSum(self, nums, target):\n",
    "        \"\"\"\n",
    "        :type nums: List[int]\n",
    "        :type target: int\n",
    "        :rtype: List[int]\n",
    "        \"\"\"\n",
    "        dict = {}\n",
    "        ans = None\n",
    "        size = len(nums)\n",
    "        for i in xrange(size):\n",
    "            dict[nums[i]] = i\n",
    "        for i in xrange(size):\n",
    "            k = target - nums[i]\n",
    "            if k in dict and dict[k] != i:\n",
    "                ans = [i, dict[k]]\n",
    "                break\n",
    "        return ans\n"
   ]
  },
  {
   "cell_type": "markdown",
   "id": "a06ebd0e",
   "metadata": {},
   "source": [
    "### 8. Add Two Numbers\n",
    "You are given two non-empty linked lists representing two non-negative integers. The digits are stored in reverse order, and each of their nodes contains a single digit. Add the two numbers and return the sum as a linked list.\n",
    "\n",
    "You may assume the two numbers do not contain any leading zero, except the number 0 itself."
   ]
  },
  {
   "cell_type": "code",
   "execution_count": null,
   "id": "441046bd",
   "metadata": {},
   "outputs": [],
   "source": [
    "def addNum(num1, num2):\n",
    "    str1 = ''\n",
    "    str2 = ''\n",
    "    n1 = num1[::-1]\n",
    "    n2 = num2[::-1]\n",
    "    for i1 in n1:\n",
    "        str1 += str(i1)\n",
    "    for i2 in n2:\n",
    "        str2 += str(i2)\n",
    "    return int(str1)+int(str2)\n",
    "\n",
    "\n"
   ]
  },
  {
   "cell_type": "markdown",
   "id": "d4996aca",
   "metadata": {},
   "source": [
    "### 9. Longest Palindromic Substring\n",
    "Given a string s, return the longest \n",
    "palindromic substring in s <br>\n",
    "\n",
    "Input: s = \"babad\" <br>\n",
    "Output: \"bab\"\n",
    "    "
   ]
  },
  {
   "cell_type": "code",
   "execution_count": 1,
   "id": "living-bundle",
   "metadata": {},
   "outputs": [
    {
     "name": "stdout",
     "output_type": "stream",
     "text": [
      "madam\n",
      "anna\n",
      "a\n"
     ]
    }
   ],
   "source": [
    "def find_longest_palindrome(s):\n",
    "    longest = ''\n",
    "    n = len(s)\n",
    "    for i in range(n):\n",
    "        for j in range(i+1,n+1):\n",
    "            word = s[i:j]\n",
    "            if word == word[::-1]:\n",
    "                if len(word)>len(longest):\n",
    "                    longest = word          \n",
    "    return longest\n",
    "\n",
    "print(find_longest_palindrome('locoannamadam'))\n",
    "# madam\n",
    "print(find_longest_palindrome('anna'))\n",
    "# anna\n",
    "print(find_longest_palindrome('abc'))"
   ]
  },
  {
   "cell_type": "markdown",
   "id": "4f91a46d",
   "metadata": {},
   "source": [
    "### 10. Reverse Integer\n",
    "Given a signed 32-bit integer x, return x with its digits reversed. If reversing x causes the value to go outside the signed 32-bit integer range [-231, 231 - 1], then return 0. <br>\n",
    "Input: x = 123 <br>\n",
    "Output: 321 <br>\n"
   ]
  },
  {
   "cell_type": "code",
   "execution_count": 3,
   "id": "through-percentage",
   "metadata": {},
   "outputs": [],
   "source": [
    "#recursive solution to Reverse Integer by LeetCodePython\n",
    "class Solution:\n",
    "    # @return an integer\n",
    "    def reverse(self, x):\n",
    "        \n",
    "        if x < 0:   \n",
    "            return int(str(x)[1:][::-1])*-1\n",
    "        else:       \n",
    "            return int(str(x)[::-1])\n",
    "\n",
    "        \n"
   ]
  },
  {
   "cell_type": "code",
   "execution_count": 10,
   "id": "measured-turkey",
   "metadata": {},
   "outputs": [
    {
     "data": {
      "text/plain": [
       "765"
      ]
     },
     "execution_count": 10,
     "metadata": {},
     "output_type": "execute_result"
    }
   ],
   "source": [
    "Solution.reverse(1,567)"
   ]
  },
  {
   "cell_type": "markdown",
   "id": "a2dade3a",
   "metadata": {},
   "source": [
    "### 11. Palindrome Number\n",
    "Given an integer x, return true if x is a \n",
    "palindrome\n",
    ", and false otherwise.\n",
    "\n",
    "Input: x = 121 <br>\n",
    "Output: true <br>\n",
    "Explanation: 121 reads as 121 from left to right and from right to left. <br>"
   ]
  },
  {
   "cell_type": "code",
   "execution_count": 11,
   "id": "58c519d0",
   "metadata": {},
   "outputs": [],
   "source": [
    "class Solution:\n",
    "    def isPalindrome(self, x: int) -> bool:\n",
    "            rev = 0\n",
    "            init_n = x\n",
    "            if( x < 0):\n",
    "              return False\n",
    "        \n",
    "            while x != 0:\n",
    "                    rev = (rev*10) +  x % 10\n",
    "                    x = x // 10\n",
    "    \n",
    "            if(rev == init_n):\n",
    "                       return True\n",
    "            return False\n"
   ]
  },
  {
   "cell_type": "code",
   "execution_count": 13,
   "id": "84f14ebc",
   "metadata": {},
   "outputs": [
    {
     "data": {
      "text/plain": [
       "True"
      ]
     },
     "execution_count": 13,
     "metadata": {},
     "output_type": "execute_result"
    }
   ],
   "source": [
    "Solution.isPalindrome(1,121)"
   ]
  },
  {
   "cell_type": "markdown",
   "id": "15bd085f",
   "metadata": {},
   "source": [
    "### 12. Container With Most Water\n",
    "You are given an integer array height of length n. There are n vertical lines drawn such that the two endpoints of the ith line are (i, 0) and (i, height[i]). <br>\n",
    "\n",
    "Find two lines that together with the x-axis form a container, such that the container contains the most water.\n",
    "\n",
    "Return the maximum amount of water a container can store.\n",
    "\n",
    "Notice that you may not slant the container.\n",
    "\n",
    "Input: height = [1,8,6,2,5,4,8,3,7] <br>\n",
    "Output: 49 <br>\n",
    "Explanation: The above vertical lines are represented by array [1,8,6,2,5,4,8,3,7]. \n",
    "In this case, the max area of water (blue section) the container can contain is 49. <br>\n",
    "\n"
   ]
  },
  {
   "cell_type": "code",
   "execution_count": 15,
   "id": "5fcc19fb",
   "metadata": {},
   "outputs": [],
   "source": [
    "class Solution:\n",
    "    def maxArea(self, H: list[int]) -> int:\n",
    "        ans, i, j = 0, 0, len(H)-1\n",
    "        \n",
    "        while (i < j):\n",
    "            if H[i] <= H[j]:\n",
    "                res = H[i] * (j - i)\n",
    "                i += 1\n",
    "            else:\n",
    "                res = H[j] * (j - i)\n",
    "                j -= 1\n",
    "            if res > ans: ans = res\n",
    "        return ans"
   ]
  },
  {
   "cell_type": "code",
   "execution_count": 17,
   "id": "f34187ee",
   "metadata": {},
   "outputs": [
    {
     "data": {
      "text/plain": [
       "49"
      ]
     },
     "execution_count": 17,
     "metadata": {},
     "output_type": "execute_result"
    }
   ],
   "source": [
    "Solution.maxArea(1,[1,8,6,2,5,4,8,3,7])"
   ]
  },
  {
   "cell_type": "markdown",
   "id": "f75d0c51",
   "metadata": {},
   "source": [
    "### 13. Given two integers dividend and divisor, divide two integers without using multiplication, division, and mod operator.\n",
    "\n",
    "The integer division should truncate toward zero, which means losing its fractional part. For example, 8.345 would be truncated to 8, and -2.7335 would be truncated to -2.\n",
    "\n",
    "Return the quotient after dividing dividend by divisor."
   ]
  },
  {
   "cell_type": "code",
   "execution_count": 18,
   "id": "b9c2b1ea",
   "metadata": {},
   "outputs": [],
   "source": [
    "class Solution:\n",
    "    def divide(self, dividend: int, divisor: int) -> int:\n",
    "        print (1 << 1)\n",
    "        is_negative = False\n",
    "        \n",
    "        if dividend > 0  and divisor < 0 or dividend < 0 and divisor > 0:\n",
    "            is_negative = True\n",
    "\n",
    "        if dividend < 0:\n",
    "            dividend = -dividend\n",
    "\n",
    "        if divisor < 0:\n",
    "            divisor = -divisor        \n",
    "        \n",
    "        result = 0\n",
    "        \n",
    "        while dividend >= divisor:\n",
    "            temp = divisor\n",
    "            \n",
    "            count = 1\n",
    "            \n",
    "            while dividend >= temp:\n",
    "                dividend -= temp\n",
    "                result += count\n",
    "                \n",
    "                count <<= 1\n",
    "                temp <<= 1\n",
    "                \n",
    "        \n",
    "        if is_negative:\n",
    "            result = -result\n",
    "\n",
    "        if result >= 1 << 31:\n",
    "            result = (1 << 31) - 1\n",
    "                        \n",
    "        return result"
   ]
  },
  {
   "cell_type": "code",
   "execution_count": 19,
   "id": "406bc401",
   "metadata": {},
   "outputs": [
    {
     "name": "stdout",
     "output_type": "stream",
     "text": [
      "2\n"
     ]
    },
    {
     "data": {
      "text/plain": [
       "3"
      ]
     },
     "execution_count": 19,
     "metadata": {},
     "output_type": "execute_result"
    }
   ],
   "source": [
    "Solution.divide(1,10,3)"
   ]
  },
  {
   "cell_type": "code",
   "execution_count": 20,
   "id": "d29c0b07",
   "metadata": {},
   "outputs": [
    {
     "name": "stdout",
     "output_type": "stream",
     "text": [
      "['a', 'b', 'c', [...]]\n"
     ]
    }
   ],
   "source": [
    "ls = ['a','b','c']\n",
    "ls.append(ls)\n",
    "print(ls)"
   ]
  },
  {
   "cell_type": "code",
   "execution_count": null,
   "id": "4795ffb9",
   "metadata": {},
   "outputs": [],
   "source": []
  },
  {
   "cell_type": "code",
   "execution_count": null,
   "id": "461e1f4e",
   "metadata": {},
   "outputs": [],
   "source": []
  },
  {
   "cell_type": "code",
   "execution_count": null,
   "id": "230aa53b",
   "metadata": {},
   "outputs": [],
   "source": []
  },
  {
   "cell_type": "code",
   "execution_count": null,
   "id": "1b775747",
   "metadata": {},
   "outputs": [],
   "source": []
  },
  {
   "cell_type": "code",
   "execution_count": null,
   "id": "fd2ceb8b",
   "metadata": {},
   "outputs": [],
   "source": []
  },
  {
   "cell_type": "code",
   "execution_count": null,
   "id": "c4a4d170",
   "metadata": {},
   "outputs": [],
   "source": []
  }
 ],
 "metadata": {
  "kernelspec": {
   "display_name": "Python 3 (ipykernel)",
   "language": "python",
   "name": "python3"
  },
  "language_info": {
   "codemirror_mode": {
    "name": "ipython",
    "version": 3
   },
   "file_extension": ".py",
   "mimetype": "text/x-python",
   "name": "python",
   "nbconvert_exporter": "python",
   "pygments_lexer": "ipython3",
   "version": "3.9.13"
  }
 },
 "nbformat": 4,
 "nbformat_minor": 5
}
